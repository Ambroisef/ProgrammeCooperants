{
 "cells": [
  {
   "cell_type": "markdown",
   "metadata": {},
   "source": [
    "# Côté client\n",
    "\n",
    "## Le client en quelques môts\n",
    "\n",
    "Dans un architecture client-serveur il y a un client et un serveur, facile c'est dans le nom ! Dans ce notebook nous allons donc voir en quoi consiste concrètement un client. Pour cela nous allons voir comment nous pouvons facilement développer notre propre client réseau à l'aide bien évidemment de Python. \n",
    "\n",
    "Déjà revenons sur la définition d'un client. Un client ne fait fait que deux choses : (i) établir une connexion avec  un serveur ; (ii) recevoir, traiter et envoyer des données. En réalité sans peut-être le savoir vous utilisez un client tous les jours. Une idée ? Un indice à l'instant même où vous lisez cette ligne vous utilisez un client !! Et oui votre navigateur internet (Chrome, Firefox, Edge, peu importe) n'est rien de plus qu'un client. Bon ok un client un peu évoluer certe puisque disposant d'une interface graphique. Mais ce n'est pourtant rien de plus qu'un client qui se connecte à un serveur (caractérisé par une adresse url) recoit de se serveur une page web et potentiellement renvoie des données. \n",
    "\n",
    "Dans la suite du notebook nous allons donc voir comment mettre en place notre propre client. "
   ]
  },
  {
   "cell_type": "markdown",
   "metadata": {},
   "source": [
    "## Un premier échange TCP"
   ]
  },
  {
   "cell_type": "markdown",
   "metadata": {},
   "source": [
    "Pour commencer nous allons faire un premier client TCP qui va interroger un serveur. Les informations du serveur sont les suivantes : "
   ]
  },
  {
   "cell_type": "code",
   "execution_count": 1,
   "metadata": {},
   "outputs": [],
   "source": [
    "#server_ip   = \"54.38.35.132\"\n",
    "#server_port = 3000\n",
    "\n",
    "server_ip = \"127.0.0.1\"\n",
    "server_port=3000\n"
   ]
  },
  {
   "cell_type": "markdown",
   "metadata": {},
   "source": [
    "La connection a se serveur va se faire à l'aide d'un socket comme nous avons pu le voir dans le précédent notebook. Et donc Python, dans son génie, dispose d'un module s'appelant socket !"
   ]
  },
  {
   "cell_type": "markdown",
   "metadata": {},
   "source": [
    "Mais avant cela il faut lancer le serveur ;) \n"
   ]
  },
  {
   "cell_type": "code",
   "execution_count": null,
   "metadata": {},
   "outputs": [],
   "source": [
    "import subprocess\n",
    "proc=subprocess.Popen(\"python ../sandbox/server_socket_tcp.py\", shell=True)"
   ]
  },
  {
   "cell_type": "code",
   "execution_count": 2,
   "metadata": {},
   "outputs": [],
   "source": [
    "import socket "
   ]
  },
  {
   "cell_type": "markdown",
   "metadata": {},
   "source": [
    "La connection se fait alors par la création d'un object `socket.socket` de la manière suivante : "
   ]
  },
  {
   "cell_type": "code",
   "execution_count": 3,
   "metadata": {},
   "outputs": [],
   "source": [
    "params = (server_ip, server_port)\n",
    "s = socket.socket(socket.AF_INET, socket.SOCK_STREAM)\n",
    "s.connect(params)"
   ]
  },
  {
   "cell_type": "markdown",
   "metadata": {},
   "source": [
    "A partir de là la connection avec le server est établie et nous pouvons donc communiquer avec ce dernier. La communication est simple elle se fait à l'aide de la méthode `send` du socket pour envoyer des données au serveur et avec la méthode `recv` pour recevoir des données du serveur. \n",
    "\n",
    "**Attention** au type de ce que l'on envoie. Il faut que les chaines de caractère que vous envoyez au serveur soit encodé. Si ce n'est pas le cas vous allez avoir l'erreur suivante : "
   ]
  },
  {
   "cell_type": "code",
   "execution_count": 4,
   "metadata": {},
   "outputs": [
    {
     "name": "stdout",
     "output_type": "stream",
     "text": [
      "a bytes-like object is required, not 'str'\n"
     ]
    }
   ],
   "source": [
    "try:\n",
    "    s.send(\"Hello server\")\n",
    "except Exception as e:\n",
    "    print(e.args[0])"
   ]
  },
  {
   "cell_type": "code",
   "execution_count": 5,
   "metadata": {},
   "outputs": [
    {
     "data": {
      "text/plain": [
       "12"
      ]
     },
     "execution_count": 5,
     "metadata": {},
     "output_type": "execute_result"
    }
   ],
   "source": [
    "s.send(b\"Hello server\") ## ou s.send(\"Hello server\".encode())"
   ]
  },
  {
   "cell_type": "markdown",
   "metadata": {},
   "source": [
    "La méthode send nous renvoie en sortie la taille du message que l'on a envoyé au serveur. A partir de là il nous faut maintenant recevoir la réponse du serveur. Pour cela nous allons utiliser la méthode recv. Cependant il y a un particularité à la méthode recv qui est qu'elle nécessite en argument un entier, la tailler du buffer. En effet, le client ne sait pas à l'avance la taille du message qu'il va recevoir du serveur, il est donc nécessaire de pré-allouer une taille de message fixée arbitrairement et de recevoir le message en plusieur morceaux si ce dernier est plus grand que la taille du buffer. Cette réception par morceaux peut se faire de la manière suivante : "
   ]
  },
  {
   "cell_type": "code",
   "execution_count": 6,
   "metadata": {},
   "outputs": [
    {
     "name": "stdout",
     "output_type": "stream",
     "text": [
      "Le client a recu du server :\n",
      " data received by the server: Hello server\n"
     ]
    }
   ],
   "source": [
    "BUFF_SIZE = 1024\n",
    "a = s.recv(BUFF_SIZE)\n",
    "msg = a\n",
    "while a != b\"\":\n",
    "    a = s.recv(BUFF_SIZE)\n",
    "    msg += a\n",
    "    \n",
    "print(f\"Le client a recu du server :\\n {msg.decode()}\")"
   ]
  },
  {
   "cell_type": "markdown",
   "metadata": {},
   "source": [
    "Et enfin une fois notre échange fini nous pouvons fermer notre client. "
   ]
  },
  {
   "cell_type": "code",
   "execution_count": 7,
   "metadata": {},
   "outputs": [],
   "source": [
    "s.close()"
   ]
  },
  {
   "cell_type": "markdown",
   "metadata": {},
   "source": [
    "Suite a ce premier échange TCP entre notre client et un serveur nous pouvons faire plusieurs remarques. Tout d'abord la première chose que vous pouvez vous dire c'est que l'intéret semble assez limité en fait. En effet l'interaction entre le client et le serveur est assez pauvre puisqu'on ne peut envoyer qu'une chaine de caractère encodée et ne recevoir qu'une donnée similaire. On est loin du Big Data, Web des données et tous ces termes à la mode. Mais pas de panique, inutile de fermer le notebook en vous disant une fois de plus que je suis un rigolo. Je vais tout de suite vous expliquer comment faire des choses un peu plus fun. "
   ]
  },
  {
   "cell_type": "code",
   "execution_count": null,
   "metadata": {},
   "outputs": [],
   "source": [
    "proc.terminate()"
   ]
  },
  {
   "cell_type": "markdown",
   "metadata": {},
   "source": [
    "## Serialisation ou comment échanger plus"
   ]
  },
  {
   "cell_type": "markdown",
   "metadata": {},
   "source": [
    "Nous allons à présent faire une petite parenthèse pour parler du concept de sérialisation. La sérialisation en informatique consiste en une traduction d'un objet en une suite d'objets élémentaires. Cela étant dit ça ne nous avance pas des masse. En effet à partir de cette définition il y a une infinité de sérialisation possible. L'intérêt de la sérialisation repose sur le fait qu'il existe des  format prédéfini de sérialisation rendant cette opération interropérable entre différents programmes et différents environnement. "
   ]
  },
  {
   "cell_type": "markdown",
   "metadata": {},
   "source": [
    "### 100 % Python la sérialisation via pickle"
   ]
  },
  {
   "cell_type": "markdown",
   "metadata": {},
   "source": [
    "La première solution de sérialisation envisageable est d'utiliser le module `pickle` de Python. Ce module est dédié à la sérialisation et désérisalisation d'objet Python. L'avantage c'est qu'il va nous permettre de sérializer tout ce que l'on veut (y compris des classes, des fonctions,... ). En revanche cette généricité va se faire au détriment de la portabilité, en effet seul Python est capable de déserialiser la donnée. Cela impose donc d'avoir une **infrastructure 100% Python** que ce soit côté serveur et côté client. "
   ]
  },
  {
   "cell_type": "code",
   "execution_count": 8,
   "metadata": {},
   "outputs": [],
   "source": [
    "import pickle"
   ]
  },
  {
   "cell_type": "markdown",
   "metadata": {},
   "source": [
    "Considérons pour commencer une liste de données hétérogène. Avec la fonction `dumps` du module Pickle il est tout à fait posible de convertir celle liste en un objet de type `bytes` pouvant alors être envoyé via notre client/serveur TCP. "
   ]
  },
  {
   "cell_type": "code",
   "execution_count": 9,
   "metadata": {},
   "outputs": [],
   "source": [
    "data = [ (0,1,2), True, [\"coucou\", \"byebye\"]]\n",
    "serialized_data = pickle.dumps(data)\n"
   ]
  },
  {
   "cell_type": "code",
   "execution_count": 10,
   "metadata": {},
   "outputs": [
    {
     "data": {
      "text/plain": [
       "b'\\x80\\x03]q\\x00(K\\x00K\\x01K\\x02\\x87q\\x01\\x88]q\\x02(X\\x06\\x00\\x00\\x00coucouq\\x03X\\x06\\x00\\x00\\x00byebyeq\\x04ee.'"
      ]
     },
     "execution_count": 10,
     "metadata": {},
     "output_type": "execute_result"
    }
   ],
   "source": [
    "serialized_data"
   ]
  },
  {
   "cell_type": "raw",
   "metadata": {},
   "source": [
    "La dé-sérialisation se fait alors via la fonction `loads` qui prend en entrée le `bytes` object contenant la donnée sérialisée et vous retourne en sortie votre donnée d'origine. "
   ]
  },
  {
   "cell_type": "code",
   "execution_count": 11,
   "metadata": {},
   "outputs": [
    {
     "data": {
      "text/plain": [
       "[(0, 1, 2), True, ['coucou', 'byebye']]"
      ]
     },
     "execution_count": 11,
     "metadata": {},
     "output_type": "execute_result"
    }
   ],
   "source": [
    "pickle.loads(serialized_data)"
   ]
  },
  {
   "cell_type": "markdown",
   "metadata": {},
   "source": [
    "L'intérêt d'utiliser Pickle est que l'on peut envisager des applications où les échanges entre client et serveur porte directement sur des morceaux de code a exécuter. Par exemple on pourrait très bien imaginer une application où le client sur un ordinateur ayant peu de ressources envoie au serveur un ensemble de code Python et de données. Le code est alors exécuté sur le serveur (disposant de ressources bien plus importantes) et ce dernier renvoi le résultat au client pour un affichage par exemple. "
   ]
  },
  {
   "cell_type": "code",
   "execution_count": 12,
   "metadata": {},
   "outputs": [
    {
     "name": "stdout",
     "output_type": "stream",
     "text": [
      "Results = 0.0\n"
     ]
    }
   ],
   "source": [
    "### Cote client \n",
    "class Calculator:\n",
    "    def __init__(self, data):\n",
    "        self._data = data\n",
    "        self._result = 0.\n",
    "        \n",
    "    def run(self):\n",
    "        self._result = self._data.mean()\n",
    "        \n",
    "    def result(self):\n",
    "        return self._result\n",
    "    \n",
    "import numpy as np\n",
    "c = Calculator(np.random.rand(100))\n",
    "print(f\"Results = {c.result()}\")\n",
    "serialized_c = pickle.dumps(c)"
   ]
  },
  {
   "cell_type": "code",
   "execution_count": 13,
   "metadata": {},
   "outputs": [],
   "source": [
    "### Cote serveur \n",
    "import numpy as np\n",
    "import pickle\n",
    "receive_c = pickle.loads( serialized_c )\n",
    "receive_c.run()\n",
    "### On re-serialize le tout et on renvoie au client \n",
    "send_c = pickle.dumps( receive_c )"
   ]
  },
  {
   "cell_type": "code",
   "execution_count": 14,
   "metadata": {},
   "outputs": [
    {
     "data": {
      "text/plain": [
       "0.49518013598800964"
      ]
     },
     "execution_count": 14,
     "metadata": {},
     "output_type": "execute_result"
    }
   ],
   "source": [
    "### cote client a nouveau \n",
    "c_client_after_server = pickle.loads(send_c)\n",
    "c_client_after_server.result()"
   ]
  },
  {
   "cell_type": "markdown",
   "metadata": {},
   "source": [
    "Cela permet donc de faire des choses beaucoup plus évoluées que ce que l'on a vu au début de ce notebook !! Mais pourquoi ne pas le faire en vrai, c'est-à-dire avec la communication vers le serveur, vous demandez vous. Parce qu'en fait cette application est le parfait exemple de ce qu'il ne faut surtout **pas faire** ! Pourquoi ? Mais pour la simple est bonne raison que c'est une énorme faille de sécurité pour le serveur. Heu... vous ne voyez vraiment pas ? Et bien si je résume, le client envoie un serveur une instance de classe qui a une méthode `run`. Côté serveur on pourrait donc coder quelque chose du genre : "
   ]
  },
  {
   "cell_type": "code",
   "execution_count": 15,
   "metadata": {},
   "outputs": [
    {
     "name": "stdout",
     "output_type": "stream",
     "text": [
      "Le truc que j'ai recu a une methode run donc je l'execute\n"
     ]
    }
   ],
   "source": [
    "import pickle\n",
    "receive_c = pickle.loads( serialized_c )\n",
    "\n",
    "if hasattr(receive_c, \"run\"):\n",
    "    print(\"Le truc que j'ai recu a une methode run donc je l'execute\")\n",
    "    receive_c.run()\n",
    "else:\n",
    "    print(\"Pas de méthode run, je fais autre chose comme envoyer un message au client pour dire que j'ai pas recu ce qu'il faut \")\n",
    "    \n"
   ]
  },
  {
   "cell_type": "markdown",
   "metadata": {},
   "source": [
    "Le problème avec ça c'est que du côté serveur on ne sait pas ce qu'il y a dans la méthode `run` et donc ça peut être un bête calcul de moyenne comme illustré dans l'exemple. Où alors des choses un peu plus méchantes, comme la suppression de toutes les données du serveur, la récupération des données du serveur et leurs envoie vers un autre serveur, ... C'est ce que l'on appel de l'injection de code et c'est jamais joli !! \n",
    "\n",
    "C'est donc pour cette raison que je n'ai pas fait cet exemple en vrai car cela aurait ouvert une énorme faille de sécurité sur le serveur. "
   ]
  },
  {
   "cell_type": "markdown",
   "metadata": {},
   "source": [
    "### La sérialisation 100% Web, le json"
   ]
  },
  {
   "cell_type": "markdown",
   "metadata": {},
   "source": [
    "Maintenant que nous avons vu `pickle` nous savons sérialiser des données et donc les envoyer via notre connection TCP sans problème. La limitation de l'approche `Pickle` repose, comme nous l'avons déjà dit, sur le fait qu'elle n'est compatible qu'avec du Python. Il faut donc que le client et le serveur soit tout deux en Python. Or cela est quand même facheux car tout l'intéret de la coopérance par réseau est d'avoir des environnement hétérogène utilisant divers langages. Donc Pickle ne semble pas être optimal. "
   ]
  },
  {
   "cell_type": "markdown",
   "metadata": {},
   "source": [
    "Mais pas de souci il y a une solution. C'est le format de donnée json, pour Javascript Object Notation. Alors oui il y a javascript dans le nom mais non ce n'est pas limité à ce seul langage. Pour la petite histoire le json tire son inspiration des object javascript, d'où son nom, et s'est imposé depuis maintenant un peu plus de 10 ans comme une référence dans le domaine de la sérialisation de donnée orienté Web, mais pas que. On retrouve désormais du json dans de nombreuses applications. L'avantage est qu'il existe des librairies json dans la plupart des langages de programmation ce qui va ainsi nous permettre des architecture hétérogène et une intéropérabilité accrue.  "
   ]
  },
  {
   "cell_type": "markdown",
   "metadata": {},
   "source": [
    "Le principe du json est très simple, il est constitué d'une arborescence de type clé-valeur et/ou de listes ordonnées permettant de représenter une structure de donnée. Ce qu'il est important de souligner à ce niveau c'est que les valeurs vont être typées, les types disponibles en json sont les types de base présents dans la quasi-totalité des langages à savoir : \n",
    "\n",
    "* Chaîne de caractères : une séquence de N caractères unicode. Elles sont obligatoirement entourées de guillemets\n",
    "* Nombre : un nombre décimal signé. Le json ne fait aucune distinction entre un entier et un flottant.\n",
    "* Booléen : true ou false sont utilisés pour définir l'état du booléen.\n",
    "* Type null : une valeur vide, utilisant le mot clé null.\n",
    "* Tableau.\n",
    "\n",
    "Contrairement au Pickle on ne peut donc pas sérialiser une classe ou une fonction. Cependant les cinq types énoncés précédemment permettent largement de couvrir l'intégralité des besoins. "
   ]
  },
  {
   "cell_type": "markdown",
   "metadata": {},
   "source": [
    "Bien évidemment Python dispose d'un module permettant de travailler avec le format json."
   ]
  },
  {
   "cell_type": "code",
   "execution_count": 16,
   "metadata": {},
   "outputs": [],
   "source": [
    "import json "
   ]
  },
  {
   "cell_type": "markdown",
   "metadata": {},
   "source": [
    "Si l'on reprend alors l'exemple précédent de la serialization d'une liste hétérogène on obtient : "
   ]
  },
  {
   "cell_type": "code",
   "execution_count": 18,
   "metadata": {},
   "outputs": [
    {
     "name": "stdout",
     "output_type": "stream",
     "text": [
      "[[0, 1, 2], true, [\"coucou\", \"byebye\"]]\n"
     ]
    }
   ],
   "source": [
    "data = [ (0,1,2), True, [\"coucou\", \"byebye\"]]\n",
    "data_json = json.dumps( data )\n",
    "print(data_json)"
   ]
  },
  {
   "cell_type": "markdown",
   "metadata": {},
   "source": [
    "Mais il n'y a aucune différence !!! Si en regardant attentivement vous verrez que : (i) les parenthèses sont devenu crochés car json ne sait pas ce qu'est un tuple il le traduit en liste ; (ii) le `True` est devenu true.  Et surtout si on regarde le type des données : "
   ]
  },
  {
   "cell_type": "code",
   "execution_count": 19,
   "metadata": {},
   "outputs": [
    {
     "name": "stdout",
     "output_type": "stream",
     "text": [
      "type(data) = <class 'list'>\n",
      "type(data_json) = <class 'str'>\n"
     ]
    }
   ],
   "source": [
    "print(f\"type(data) = {type(data)}\")\n",
    "print(f\"type(data_json) = {type(data_json)}\")\n"
   ]
  },
  {
   "cell_type": "markdown",
   "metadata": {},
   "source": [
    "Notre données `data` est donc maintenant représenter sous la forme d'une chaine de caractère que l'on peut encoder et envoyer à un serveur. Vous pourriez me dire quel intérêt de faire du json on aurait pu faire la chaine de caractère nous-même. Oui c'est vrai mais alors vous auriez choisi un formalisme que vous seul auriez compris et vous seriez incapable de communiquer proprement avec un serveur que vous n'auriez pas vous même implémenter. "
   ]
  },
  {
   "cell_type": "code",
   "execution_count": 20,
   "metadata": {},
   "outputs": [
    {
     "data": {
      "text/plain": [
       "[[0, 1, 2], True, ['coucou', 'byebye']]"
      ]
     },
     "execution_count": 20,
     "metadata": {},
     "output_type": "execute_result"
    }
   ],
   "source": [
    "json.loads(data_json)"
   ]
  },
  {
   "cell_type": "markdown",
   "metadata": {},
   "source": [
    "## Retour à notre client TCP "
   ]
  },
  {
   "cell_type": "markdown",
   "metadata": {},
   "source": [
    "Maintenant que l'on sait comment sérializer des données, je vous propose un petit exemple de client qui a pour objectif d'intéragir avec un serveur qui va jouer le rôle d'un carnet de contact."
   ]
  },
  {
   "cell_type": "markdown",
   "metadata": {},
   "source": [
    "Première étape: lancer le serveur "
   ]
  },
  {
   "cell_type": "code",
   "execution_count": 58,
   "metadata": {},
   "outputs": [],
   "source": [
    "import subprocess\n",
    "proc=subprocess.Popen(\"python ../sandbox/server_contact.py\", shell=True)"
   ]
  },
  {
   "cell_type": "code",
   "execution_count": 62,
   "metadata": {},
   "outputs": [],
   "source": [
    "import socket\n",
    "import json \n",
    "class ContactClient:\n",
    "    def __init__( self, host, port):\n",
    "        self.__host = host\n",
    "        self.__port = port \n",
    "        \n",
    "    def connect(self):\n",
    "        self.__socket = socket.socket(socket.AF_INET, socket.SOCK_STREAM)\n",
    "        self.__socket.connect((self.__host, self.__port))\n",
    "        \n",
    "    def command(self, cmd, **args):\n",
    "        \n",
    "        self.connect()\n",
    "        data = {\"cmd\": cmd, \"args\": args}\n",
    "        \n",
    "        to_send = json.dumps(data).encode()\n",
    "        \n",
    "        sz = self.__socket.send( to_send )\n",
    "        \n",
    "        buff = self.__socket.recv(1024).decode()\n",
    "        data_srv = buff\n",
    "        while buff != \"\":\n",
    "            buff = self.__socket.recv(1024).decode()\n",
    "            data_srv += buff\n",
    "\n",
    "        ret = json.loads(data_srv)\n",
    "        if ret[\"status\"] is False:\n",
    "            print(\"ERROR : \" + ret[\"msg\"])\n",
    "            return \n",
    "        else:\n",
    "            return ret[\"msg\"], ret[\"data\"]        "
   ]
  },
  {
   "cell_type": "code",
   "execution_count": 63,
   "metadata": {},
   "outputs": [
    {
     "data": {
      "text/plain": [
       "('The list of all registered contact',\n",
       " {'Jean Dupond': 'jean.dupond@fake.com', 'John Doe': 'john.doe@fake.com'})"
      ]
     },
     "execution_count": 63,
     "metadata": {},
     "output_type": "execute_result"
    }
   ],
   "source": [
    "c = ContactClient(\"localhost\", 3001)\n",
    "c.command(\"list\")"
   ]
  },
  {
   "cell_type": "code",
   "execution_count": 65,
   "metadata": {},
   "outputs": [
    {
     "data": {
      "text/plain": [
       "('Basile Marchand added to contacts', {})"
      ]
     },
     "execution_count": 65,
     "metadata": {},
     "output_type": "execute_result"
    }
   ],
   "source": [
    "c.command(\"add\", name=\"Basile Marchand\", mail=\"basile.marchand@mines-paristech.fr\")"
   ]
  },
  {
   "cell_type": "code",
   "execution_count": 67,
   "metadata": {},
   "outputs": [
    {
     "data": {
      "text/plain": [
       "('The list of all registered contact',\n",
       " {'Jean Dupond': 'jean.dupond@fake.com',\n",
       "  'John Doe': 'john.doe@fake.com',\n",
       "  'Basile Marchand': 'basile.marchand@mines-paristech.fr'})"
      ]
     },
     "execution_count": 67,
     "metadata": {},
     "output_type": "execute_result"
    }
   ],
   "source": [
    "c.command(\"list\")"
   ]
  },
  {
   "cell_type": "code",
   "execution_count": 68,
   "metadata": {},
   "outputs": [],
   "source": [
    "proc.terminate()"
   ]
  },
  {
   "cell_type": "markdown",
   "metadata": {},
   "source": [
    "Ainsi avec une telle approche nous pouvons déjà réaliser des applications client-serveur relativement interactive et permettant une large gamme de possibilité. \n",
    "\n",
    "En revanche on commence a voir apparaitre une difficulté qui est que pour réaliser notre application contact il est nécessaire de se définir une syntaxe. Dans notre cas cette syntaxe passe par la définition d'une structure avec certains arguments requis. L'avantage de cette approche c'est la modularité, vous pouvez faire tout ce que vous voulez. En revanche l'inconvénient majeur c'est que vous êtes seul au monde, car votre syntaxe n'est pas nécessairement celle de votre voisin(e). Donc dans le cas d'une application client-serveur que vous faites vous-même from scratch et qui ne devra jamais intéragir avec le monde extérieur pas de problème. En revanche, si vous souhaitez vous inscrire dans une démarche plus modulaire et interoperable avec le monde exterieure il va nous falloir un peu plus que cela. C'est à cela que sert la couche 7 du modèle OSI, la couche applicative. \n",
    "\n"
   ]
  },
  {
   "cell_type": "markdown",
   "metadata": {},
   "source": [
    "### Protocol HTTP ou un peu de normalisation des échanges"
   ]
  },
  {
   "cell_type": "markdown",
   "metadata": {},
   "source": [
    "Pour le moment nous avons vu comment initialiser une connexion réseau via un socket et envoyer un message quelconque sous la forme de bytes. Cependant c'est loin d'être suffisant pour ce lancer dans le monde obscur du Web. En effet faisons un test, nous allons nous connecter via un socket à la page d'acceuil de Mines ParisTech et voir ce que l'on peut faire. "
   ]
  },
  {
   "cell_type": "code",
   "execution_count": 76,
   "metadata": {},
   "outputs": [],
   "source": [
    "import socket \n",
    "\n",
    "params = (\"www.google.com\", 80)\n",
    "client = socket.socket(socket.AF_INET, socket.SOCK_STREAM)  \n",
    "client.connect(params)"
   ]
  },
  {
   "cell_type": "markdown",
   "metadata": {},
   "source": [
    "Ok on est connecté mais qu'est ce qu'on fait du coup ? On peut essayer de lui envoyer un Hello pour voir ce qui se passe. "
   ]
  },
  {
   "cell_type": "code",
   "execution_count": 77,
   "metadata": {},
   "outputs": [],
   "source": [
    "### Du code annexe pour mettre un timeout sur le block suivant \n",
    "from contextlib import contextmanager\n",
    "import signal\n",
    "\n",
    "def raise_timeout(signum, frame):\n",
    "    raise TimeoutError\n",
    "\n",
    "\n",
    "@contextmanager\n",
    "def timeout(time):\n",
    "    # Register a function to raise a TimeoutError on the signal.                      \n",
    "    signal.signal(signal.SIGALRM, raise_timeout)\n",
    "    # Schedule the signal to be sent after ``time``.                                  \n",
    "    signal.alarm(time)\n",
    "\n",
    "    try:\n",
    "        yield\n",
    "    except TimeoutError:\n",
    "        print(\"Raise a TimeOutError\")\n",
    "    finally:\n",
    "        # Unregister the signal so it won't be triggered                              \n",
    "        # if the timeout is not reached.                                              \n",
    "        signal.signal(signal.SIGALRM, signal.SIG_IGN)\n",
    "\n"
   ]
  },
  {
   "cell_type": "code",
   "execution_count": 78,
   "metadata": {},
   "outputs": [
    {
     "name": "stdout",
     "output_type": "stream",
     "text": [
      "Raise a TimeOutError\n"
     ]
    }
   ],
   "source": [
    "with timeout(10):\n",
    "    client.send(b\"Hello Google\")\n",
    "    retour = client.recv(4096)\n",
    "    print(f\"Reponse du server : {retour}\")"
   ]
  },
  {
   "cell_type": "markdown",
   "metadata": {},
   "source": [
    "Bon et bien en fait il ne se passe rien, le serveur ne sait pas quoi faire car il ne comprend pas notre requête et donc il ne donne aucune réponse. En effet si on veut intéroger un site web il faut utiliser le protocole HTTP et celui ci est plutôt strict sur le format des messages. "
   ]
  },
  {
   "cell_type": "code",
   "execution_count": 83,
   "metadata": {},
   "outputs": [],
   "source": [
    "\n",
    "# send some data \n",
    "request = \"GET / HTTP/1.1\\r\\nHost:%s\\r\\n\\r\\n\" % params[0]\n",
    "client.send(request.encode())  \n",
    "# receive some data \n",
    "response = client.recv(100*4096)\n",
    "\n",
    "    \n",
    "http_response = response\n",
    "http_response_len = len(http_response)\n"
   ]
  },
  {
   "cell_type": "code",
   "execution_count": 93,
   "metadata": {},
   "outputs": [
    {
     "data": {
      "text/html": [
       "b'ue};})();(function(){var pmc=\\'{\\\\x22d\\\\x22:{},\\\\x22sb_he\\\\x22:{\\\\x22agen\\\\x22:true,\\\\x22cgen\\\\x22:true,\\\\x22client\\\\x22:\\\\x22heirloom-hp\\\\x22,\\\\x22dh\\\\x22:true,\\\\x22dhqt\\\\x22:true,\\\\x22ds\\\\x22:\\\\x22\\\\x22,\\\\x22ffql\\\\x22:\\\\x22fr\\\\x22,\\\\x22fl\\\\x22:true,\\\\x22host\\\\x22:\\\\x22google.com\\\\x22,\\\\x22isbh\\\\x22:28,\\\\x22jsonp\\\\x22:true,\\\\x22lm\\\\x22:true,\\\\x22msgs\\\\x22:{\\\\x22cibl\\\\x22:\\\\x22Effacer la recherche\\\\x22,\\\\x22dym\\\\x22:\\\\x22Essayez avec cette orthographe :\\\\x22,\\\\x22lcky\\\\x22:\\\\x22J\\\\\\\\u0026#39;ai de la chance\\\\x22,\\\\x22lml\\\\x22:\\\\x22En savoir plus\\\\x22,\\\\x22oskt\\\\x22:\\\\x22Outils de saisie\\\\x22,\\\\x22psrc\\\\x22:\\\\x22Cette suggestion a bien \\xe9t\\xe9 supprim\\xe9e de votre \\\\\\\\u003Ca href\\\\x3d\\\\\\\\\\\\x22/history\\\\\\\\\\\\x22\\\\\\\\u003Ehistorique Web\\\\\\\\u003C/a\\\\\\\\u003E.\\\\x22,\\\\x22psrl\\\\x22:\\\\x22Supprimer\\\\x22,\\\\x22sbit\\\\x22:\\\\x22Recherche par image\\\\x22,\\\\x22srch\\\\x22:\\\\x22Recherche Google\\\\x22},\\\\x22ovr\\\\x22:{},\\\\x22pq\\\\x22:\\\\x22\\\\x22,\\\\x22refpd\\\\x22:true,\\\\x22rfs\\\\x22:[],\\\\x22sbpl\\\\x22:16,\\\\x22sbpr\\\\x22:16,\\\\x22scd\\\\x22:10,\\\\x22stok\\\\x22:\\\\x22Roh-aTGI8qmv-qD1_17xz0Nw4i0\\\\x22,\\\\x22uhde\\\\x22:false}}\\';google.pmc=JSON.parse(pmc);})();</script>        </body></html>\\r\\n0\\r\\n\\r\\nHTTP/1.1 200 OK\\r\\nDate: Mon, 20 Apr 2020 14:44:29 GMT\\r\\nExpires: -1\\r\\nCache-Control: private, max-age=0\\r\\nContent-Type: text/html; charset=ISO-8859-1\\r\\nP3P: CP=\"This is not a P3P policy! See g.co/p3phelp for more info.\"\\r\\nServer: gws\\r\\nX-XSS-Protection: 0\\r\\nX-Frame-Options: SAMEORIGIN\\r\\nSet-Cookie: 1P_JAR=2020-04-20-14; expires=Wed, 20-May-2020 14:44:29 GMT; path=/; domain=.google.com; Secure\\r\\nSet-Cookie: NID=202=RVCZIeC-Twtyl13vWopqwfolewOmNTudrEz3ZGA7Zi8DnNKI7XSuJMvF6Osjb7FUEu07byE1BkT-yp72_5iECWbiR4HyqHvTgEMZvZ2_-5b5acegeROCOq7XOaQoVomOxMup04heiwz8bmq5oFaSJmKO-yjbul8AinvZoCpR0Hw; expires=Tue, 20-Oct-2020 14:44:29 GMT; path=/; domain=.google.com; HttpOnly\\r\\nAccept-Ranges: none\\r\\nVary: Accept-Encoding\\r\\nTransfer-Encoding: chunked\\r\\n\\r\\n623e\\r\\n<!doctype html><html itemscope=\"\" itemtype=\"http://schema.org/WebPage\" lang=\"fr\"><head><meta content=\"text/html; charset=UTF-8\" http-equiv=\"Content-Type\"><meta content=\"/images/branding/googleg/1x/googleg_standard_color_128dp.png\" itemprop=\"image\"><title>Google</title><script nonce=\"KV0uXT0D14FQNnPg0VA7MQ==\">(function(){window.google={kEI:\\'TbWdXt2iBY-AjLsPm4GwqAk\\',kEXPI:\\'31\\',kBL:\\'lq1v\\'};google.sn=\\'webhp\\';google.kHL=\\'fr\\';})();(function(){google.lc=[];google.li=0;google.getEI=function(a){for(var c;a&&(!a.getAttribute||!(c=a.getAttribute(\"eid\")));)a=a.parentNode;return c||google.kEI};google.getLEI=function(a){for(var c=null;a&&(!a.getAttribute||!(c=a.getAttribute(\"leid\")));)a=a.parentNode;return c};google.ml=function(){return null};google.time=function(){return Date.now()};google.log=function(a,c,b,d,g){if(b=google.logUrl(a,c,b,d,g)){a=new Image;var e=google.lc,f=google.li;e[f]=a;a.onerror=a.onload=a.onabort=function(){delete e[f]};google.vel&&google.vel.lu&&google.vel.lu(b);a.src=b;google.li=f+1}};google.logUrl=function(a,c,b,d,g){var e=\"\",f=google.ls||\"\";b||-1!=c.search(\"&ei=\")||(e=\"&ei=\"+google.getEI(d),-1==c.search(\"&lei=\")&&(d=google.getLEI(d))&&(e+=\"&lei=\"+d));d=\"\";!b&&google.cshid&&-1==c.search(\"&cshid=\")&&\"slh\"!=a&&(d=\"&cshid=\"+google.cshid);b=b||\"/\"+(g||\"gen_204\")+\"?atyp=i&ct=\"+a+\"&cad=\"+c+e+f+\"&zx=\"+google.time()+d;/^http:/i.test(b)&&\"https:\"==window.location.protocol&&(google.ml(Error(\"a\"),!1,{src:b,glmm:1}),b=\"\");return b};}).call(this);(function(){google.y={};google.x=function(a,b){if(a)var c=a.id;else{do c=Math.random();while(google.y[c])}google.y[c]=[a,b];return!1};google.lm=[];google.plm=function(a){google.lm.push.apply(google.lm,a)};google.lq=[];google.load=function(a,b,c){google.lq.push([[a],b,c])};google.loadAll=function(a,b){google.lq.push([a,b])};}).call(this);google.f={};(function(){\\ndocument.documentElement.addEventListener(\"submit\",function(b){var a;if(a=b.target){var c=a.getAttribute(\"data-submitfalse\");a=\"1\"==c||\"q\"==c&&!a.elements.q.value?!0:!1}else a=!1;a&&(b.preventDefault(),b.stopPropagation())},!0);document.documentElement.addEventListener(\"click\",function(b){var a;a:{for(a=b.target;a&&a!=document.documentElement;a=a.parentElement)if(\"A\"==a.tagName){a=\"1\"==a.getAttribute(\"data-nohref\");break a}a=!1}a&&b.preventDefault()},!0);}).call(this);\\nvar a=window.location,b=a.href.indexOf(\"#\");if(0<=b){var c=a.href.substring(b+1);/(^|&)q=/.test(c)&&-1==c.indexOf(\"#\")&&a.replace(\"/search?\"+c.replace(/(^|&)fp=[^&]*/g,\"\")+\"&cad=h\")};</script><style>#gb{font:13px/27px Arial,sans-serif;height:30px}#gbz,#gbg{position:absolute;white-space:nowrap;top:0;height:30px;z-index:1000}#gbz{left:0;padding-left:4px}#gbg{right:0;padding-right:5px}#gbs{background:transparent;position:absolute;top:-999px;visibility:hidden;z-index:998;right:0}.gbto #gbs{background:#fff}#gbx3,#gbx4{background-color:#2d2d2d;background-image:none;_background-image:none;background-position:0 -138px;background-repeat:repeat-x;border-bottom:1px solid #000;font-size:24px;height:29px;_height:30px;opacity:1;filter:alpha(opacity=100);position:absolute;top:0;width:100%;z-index:990}#gbx3{left:0}#gbx4{right:0}#gbb{position:relative}#gbbw{left:0;position:absolute;top:30px;width:100%}.gbtcb{position:absolute;visibility:hidden}#gbz .gbtcb{right:0}#gbg .gbtcb{left:0}.gbxx{display:none !important}.gbxo{opacity:0 !important;filter:alpha(opacity=0) !important}.gbm{position:absolute;z-index:999;top:-999px;visibility:hidden;text-align:left;border:1px solid #bebebe;background:#fff;-moz-box-shadow:-1px 1px 1px rgba(0,0,0,.2);-webkit-box-shadow:0 2px 4px rgba(0,0,0,.2);box-shadow:0 2px 4px rgba(0,0,0,.2)}.gbrtl .gbm{-moz-box-shadow:1px 1px 1px rgba(0,0,0,.2)}.gbto .gbm,.gbto #gbs{top:29px;visibility:visible}#gbz .gbm{left:0}#gbg .gbm{right:0}.gbxms{background-color:#ccc;display:block;position:absolute;z-index:1;top:-1px;left:-2px;right:-2px;bottom:-2px;opacity:.4;-moz-border-radius:3px;filter:progid:DXImageTransform.Microsoft.Blur(pixelradius=5);*opacity:1;*top:-2px;*left:-5px;*right:5px;*bottom:4px;-ms-filter:\"progid:DXImageTransform.Microsoft.Blur(pixelradius=5)\";opacity:1\\\\0/;top:-4px\\\\0/;left:-6px\\\\0/;right:5px\\\\0/;bottom:4px\\\\0/}.gbma{position:relative;top:-1px;border-style:solid dashed dashed;border-color:transparent;border-top-color:#c0c0c0;display:-moz-inline-box;display:inline-block;font-size:0;height:0;line-height:0;width:0;border-width:3px 3px 0;padding-top:1px;left:4px}#gbztms1,#gbi4m1,#gbi4s,#gbi4t{zoom:1}.gbtc,.gbmc,.gbmcc{display:block;list-style:none;margin:0;padding:0}.gbmc{background:#fff;padding:10px 0;position:relative;z-index:2;zoom:1}.gbt{position:relative;display:-moz-inline-box;display:inline-block;line-height:27px;padding:0;vertical-align:top}.gbt{*display:inline}.gbto{box-shadow:0 2px 4px rgba(0,0,0,.2);-moz-box-shadow:0 2px 4px rgba(0,0,0,.2);-webkit-box-shadow:0 2px 4px rgba(0,0,0,.2)}.gbzt,.gbgt{cursor:pointer;display:block;text-decoration:none !important}span#gbg6,span#gbg4{cursor:default}.gbts{border-left:1px solid transparent;border-right:1px solid transparent;display:block;*display:inline-block;padding:0 5px;position:relative;z-index:1000}.gbts{*display:inline}.gbzt .gbts{display:inline;zoom:1}.gbto .gbts{background:#fff;border-color:#bebebe;color:#36c;padding-bottom:1px;padding-top:2px}.gbz0l .gbts{color:#fff;font-weight:bold}.gbtsa{padding-right:9px}#gbz .gbzt,#gbz .gbgt,#gbg .gbgt{color:#ccc!important}.gbtb2{display:block;border-top:2px solid transparent}.gbto .gbzt .gbtb2,.gbto .gbgt .gbtb2{border-top-width:0}.gbtb .gbts{background:url(https://ssl.gstatic.com/gb/images/b_8d5afc09.png);_background:url(https://ssl.gstatic.com/gb/images/b8_3615d64d.png);background-position:-27px -22px;border:0;font-size:0;padding:29px 0 0;*padding:27px 0 0;width:1px}.gbzt:hover,.gbzt:focus,.gbgt-hvr,.gbgt:focus{background-color:#4c4c4c;background-image:none;_background-image:none;background-position:0 -102px;background-repeat:repeat-x;outline:none;text-decoration:none !important}.gbpdjs .gbto .gbm{min-width:99%}.gbz0l .gbtb2{border-top-color:#dd4b39!important}#gbi4s,#gbi4s1{font-weight:bold}#gbg6.gbgt-hvr,#gbg6.gbgt:focus{background-color:transparent;background-image:none}.gbg4a{font-size:0;line-height:0}.gbg4a .gbts{padding:27px 5px 0;*padding:25px 5px 0}.gbto .gbg4a .gbts{padding:29px 5px 1px;*padding:27px 5px 1px}#gbi4i,#gbi4id{left:5px;border:0;height:24px;position:absolute;top:1px;width:24px}.gbto #gbi4i,.gbto #gbi4id{top:3px}.gbi4p{display:block;width:24px}#gbi4id{background-position:-44px -101px}#gbmpid{background-position:0 0}#gbmpi,#gbmpid{border:none;display:inline-block;height:48px;width:48px}#gbmpiw{display:inline-block;line-height:9px;padding-left:20px;margin-top:10px;position:relative}#gbmpi,#gbmpid,#gbmpiw{*display:inline}#gbg5{font-size:0}#gbgs5{padding:5px !important}.gbto #gbgs5{padding:7px 5px 6px !important}#gbi5{background:url(https://ssl.gstatic.com/gb/images/b_8d5afc09.png);_background:url(https://ssl.gstatic.com/gb/images/b8_3615d64d.png);background-position:0 0;display:block;font-size:0;height:17px;width:16px}.gbto #gbi5{background-position:-6px -22px}.gbn .gbmt,.gbn .gbmt:visited,.gbnd .gbmt,.gbnd .gbmt:visited{color:#dd8e27 !important}.gbf .gbmt,.gbf .gbmt:visited{color:#900 !important}.gbmt,.gbml1,.gbmlb,.gbmt:visited,.gbml1:visited,.gbmlb:visited{color:#36c !important;text-decoration:none !important}.gbmt,.gbmt:visited{display:block}.gbml1,.gbmlb,.gbml1:visited,.gbmlb:visited{display:inline-block;margin:0 10px}.gbml1,.gbmlb,.gbml1:visited,.gbmlb:visited{*display:inline}.gbml1,.gbml1:visited{padding:0 10px}.gbml1-hvr,.gbml1:focus{outline:none;text-decoration:underline !important}#gbpm .gbml1{display:inline;margin:0;padding:0;white-space:nowrap}.gbmlb,.gbmlb:visited{line-height:27px}.gbmlb-hvr,.gbmlb:focus{outline:none;text-decoration:underline !important}.gbmlbw{color:#ccc;margin:0 10px}.gbmt{padding:0 20px}.gbmt:hover,.gbmt:focus{background:#eee;cursor:pointer;outline:0 solid black;text-decoration:none !important}.gbm0l,.gbm0l:visited{color:#000 !important;font-weight:bold}.gbmh{border-top:1px solid #bebebe;font-size:0;margin:10px 0}#gbd4 .gbmc{background:#f5f5f5;padding-top:0}#gbd4 .gbsbic::-webkit-scrollbar-track:vertical{background-color:#f5f5f5;margin-top:2px}#gbmpdv{background:#fff;border-bottom:1px solid #bebebe;-moz-box-shadow:0 2px 4px rgba(0,0,0,.12);-o-box-shadow:0 2px 4px rgba(0,0,0,.12);-webkit-box-shadow:0 2px 4px rgba(0,0,0,.12);box-shadow:0 2px 4px rgba(0,0,0,.12);position:relative;z-index:1}#gbd4 .gbmh{margin:0}.gbmtc{padding:0;margin:0;line-height:27px}.GBMCC:last-child:after,#GBMPAL:last-child:after{content:\\'\\\\0A\\\\0A\\';white-space:pre;position:absolute}#gbmps{*zoom:1}#gbd4 .gbpc,#gbmpas .gbmt{line-height:17px}#gbd4 .gbpgs .gbmtc{line-height:27px}#gbd4 .gbmtc{border-bottom:1px solid #bebebe}#gbd4 .gbpc{display:inline-block;margin:16px 0 10px;padding-right:50px;vertical-align:top}#gbd4 .gbpc{*display:inline}.gbpc .gbps,.gbpc .gbps2{display:block;margin:0 20px}#gbmplp.gbps{margin:0 10px}.gbpc .gbps{color:#000;font-weight:bold}.gbpc .gbpd{margin-bottom:5px}.gbpd .gbmt,.gbpd .gbps{color:#666 !important}.gbpd .gbmt{opacity:.4;filter:alpha(opacity=40)}.gbps2{color:#666;display:block}.gbp0{display:none}.gbp0 .gbps2{font-weight:bold}#gbd4 .gbmcc{margin-top:5px}.gbpmc{background:#fef9db}.gbpmc .gbpmtc{padding:10px 20px}#gbpm{border:0;*border-collapse:collapse;border-spacing:0;margin:0;white-space:normal}#gbpm .gbpmtc{border-top:none;color:#000 !important;font:11px Arial,sans-serif}#gbpms{*white-space:nowrap}.gbpms2{font-weight:bold;white-space:nowrap}#gbmpal{*border-collapse:collapse;border-spacing:0;border:0;margin:0;white-space:nowrap;width:100%}.gbmpala,.gbmpalb{font:13px Arial,sans-serif;line-height:27px;padding:10px 20px 0;white-space:nowrap}.gbmpala{padding-left:0;text-align:left}.gbmpalb{padding-right:0;text-align:right}#gbmpasb .gbps{color:#000}#gbmpal .gbqfbb{margin:0 20px}.gbp0 .gbps{*display:inline}a.gbiba{margin:8px 20px 10px}.gbmpiaw{display:inline-block;padding-right:10px;margin-bottom:6px;margin-top:10px}.gbxv{visibility:hidden}.gbmpiaa{display:block;margin-top:10px}.gbmpia{border:none;display:block;height:48px;width:48px}.gbmpnw{display:inline-block;height:auto;margin:10px 0;vertical-align:top}\\n.gbqfb,.gbqfba,.gbqfbb{-moz-border-radius:2px;-webkit-border-radius:2px;border-radius:2px;cursor:default !important;display:inline-block;font-weight:bold;height:29px;line-height:29px;min-width:54px;*min-width:70px;padding:0 8px;text-align:center;text-decoration:none !important;-moz-user-select:none;-webkit-user-select:none}.gbqfb:focus,.gbqfba:focus,.gbqfbb:focus{border:1px solid #4d90fe;-moz-box-shadow:inset 0 0 0 1px rgba(255, 255, 255, 0.5);-webkit-box-shadow:inset 0 0 0 1px rgba(255, 255, 255, 0.5);box-shadow:inset 0 0 0 1px rgba(255, 255, 255, 0.5);outline:none}.gbqfb-hvr:focus,.gbqfba-hvr:focus,.gbqfbb-hvr:focus{-webkit-box-shadow:inset 0 0 0 1px #fff,0 1px 1px rgba(0,0,0,.1);-moz-box-shadow:inset 0 0 0 1px #fff,0 1px 1px rgba(0,0,0,.1);box-shadow:inset 0 0 0 1px #fff,0 1px 1px rgba(0,0,0,.1)}.gbqfb-no-focus:focus{border:1px solid #3079ed;-moz-box-shadow:none;-webkit-box-shadow:none;box-shadow:none}.gbqfb-hvr,.gbqfba-hvr,.gbqfbb-hvr{-webkit-box-shadow:0 1px 1px rgba(0,0,0,.1);-moz-box-shadow:0 1px 1px rgba(0,0,0,.1);box-shadow:0 1px 1px rgba(0,0,0,.1)}.gbqfb::-moz-focus-inner,.gbqfba::-moz-focus-inner,.gbqfbb::-moz-focus-inner{border:0}.gbqfba,.gbqfbb{border:1px solid #dcdcdc;border-color:rgba(0,0,0,.1);color:#444 !important;font-size:11px}.gbqfb{background-color:#4d90fe;background-image:-webkit-gradient(linear,left top,left bottom,from(#4d90fe),to(#4787ed));background-image:-webkit-linear-gradient(top,#4d90fe,#4787ed);background-image:-moz-linear-gradient(top,#4d90fe,#4787ed);background-image:-ms-linear-gradient(top,#4d90fe,#4787ed);background-image:-o-linear-gradient(top,#4d90fe,#4787ed);background-image:linear-gradient(top,#4d90fe,#4787ed);filter:progid:DXImageTransform.Microsoft.gradient(startColorStr=\\'#4d90fe\\',EndColorStr=\\'#4787ed\\');border:1px solid #3079ed;color:#fff!important;margin:0 0}.gbqfb-hvr{border-color:#2f5bb7}.gbqfb-hvr:focus{border-color:#2f5bb7}.gbqfb-hvr,.gbqfb-hvr:focus{background-color:#357ae8;background-image:-webkit-gradient(linear,left top,left bottom,from(#4d90fe),to(#357ae8));background-image:-webkit-linear-gradient(top,#4d90fe,#357ae8);background-image:-moz-linear-gradient(top,#4d90fe,#357ae8);background-image:-ms-linear-gradient(top,#4d90fe,#357ae8);background-image:-o-linear-gradient(top,#4d90fe,#357ae8);background-image:linear-gradient(top,#4d90fe,#357ae8)}.gbqfb:active{background-color:inherit;-webkit-box-shadow:inset 0 1px 2px rgba(0, 0, 0, 0.3);-moz-box-shadow:inset 0 1px 2px rgba(0, 0, 0, 0.3);box-shadow:inset 0 1px 2px rgba(0, 0, 0, 0.3)}.gbqfba{background-color:#f5f5f5;background-image:-webkit-gradient(linear,left top,left bottom,from(#f5f5f5),to(#f1f1f1));background-image:-webkit-linear-gradient(top,#f5f5f5,#f1f1f1);background-image:-moz-linear-gradient(top,#f5f5f5,#f1f1f1);background-image:-ms-linear-gradient(top,#f5f5f5,#f1f1f1);background-image:-o-linear-gradient(top,#f5f5f5,#f1f1f1);background-image:linear-gradient(top,#f5f5f5,#f1f1f1);filter:progid:DXImageTransform.Microsoft.gradient(startColorStr=\\'#f5f5f5\\',EndColorStr=\\'#f1f1f1\\')}.gbqfba-hvr,.gbqfba-hvr:active{background-color:#f8f8f8;background-image:-webkit-gradient(linear,left top,left bottom,from(#f8f8f8),to(#f1f1f1));background-image:-webkit-linear-gradient(top,#f8f8f8,#f1f1f1);background-image:-moz-linear-gradient(top,#f8f8f8,#f1f1f1);background-image:-ms-linear-gradient(top,#f8f8f8,#f1f1f1);background-image:-o-linear-gradient(top,#f8f8f8,#f1f1f1);background-image:linear-gradient(top,#f8f8f8,#f1f1f1);filter:progid:DXImageTransform.Microsoft.gradient(startColorStr=\\'#f8f8f8\\',EndColorStr=\\'#f1f1f1\\')}.gbqfbb{background-color:#fff;background-image:-webkit-gradient(linear,left top,left bottom,from(#fff),to(#fbfbfb));background-image:-webkit-linear-gradient(top,#fff,#fbfbfb);background-image:-moz-linear-gradient(top,#fff,#fbfbfb);background-image:-ms-linear-gradient(top,#fff,#fbfbfb);background-image:-o-linear-gradient(top,#fff,#fbfbfb);background-image:linear-gradient(top,#fff,#fbfbfb);filter:progid:DXImageTransform.Microsoft.gradient(startColorStr=\\'#ffffff\\',EndColorStr=\\'#fbfbfb\\')}.gbqfbb-hvr,.gbqfbb-hvr:active{background-color:#fff;background-image:-webkit-gradient(linear,left top,left bottom,from(#fff),to(#f8f8f8));background-image:-webkit-linear-gradient(top,#fff,#f8f8f8);background-image:-moz-linear-gradient(top,#fff,#f8f8f8);background-image:-ms-linear-gradient(top,#fff,#f8f8f8);background-image:-o-linear-gradient(top,#fff,#f8f8f8);background-image:linear-gradient(top,#fff,#f8f8f8);filter:progid:DXImageTransform.Microsoft.gradient(startColorStr=\\'#ffffff\\',EndColorStr=\\'#f8f8f8\\')}.gbqfba-hvr,.gbqfba-hvr:active,.gbqfbb-hvr,.gbqfbb-hvr:active{border-color:#c6c6c6;-webkit-box-shadow:0 1px 1px rgba(0,0,0,.1);-moz-box-shadow:0 1px 1px rgba(0,0,0,.1);box-shadow:0 1px 1px rgba(0,0,0,.1);color:#222 !important}.gbqfba:active,.gbqfbb:active{-webkit-box-shadow:inset 0 1px 2px rgba(0,0,0,.1);-moz-box-shadow:inset 0 1px 2px rgba(0,0,0,.1);box-shadow:inset 0 1px 2px rgba(0,0,0,.1)}\\n#gbmpas{max-height:220px}#gbmm{max-height:530px}.gbsb{-webkit-box-sizing:border-box;display:block;position:relative;*zoom:1}.gbsbic{overflow:auto}.gbsbis .gbsbt,.gbsbis .gbsbb{-webkit-mask-box-image:-webkit-gradient(linear,left top,right top,color-stop(0,rgba(0,0,0,.1)),color-stop(.5,rgba(0,0,0,.8)),color-stop(1,rgba(0,0,0,.1)));left:0;margin-right:0;opacity:0;position:absolute;width:100%}.gbsb .gbsbt:after,.gbsb .gbsbb:after{content:\"\";display:block;height:0;left:0;position:absolute;width:100%}.gbsbis .gbsbt{background:-webkit-gradient(linear,left top,left bottom,from(rgba(0,0,0,.2)),to(rgba(0,0,0,0)));background-image:-webkit-linear-gradient(top,rgba(0,0,0,.2),rgba(0,0,0,0));background-image:-moz-linear-gradient(top,rgba(0,0,0,.2),rgba(0,0,0,0));background-image:-ms-linear-gradient(top,rgba(0,0,0,.2),rgba(0,0,0,0));background-image:-o-linear-gradient(top,rgba(0,0,0,.2),rgba(0,0,0,0));background-image:linear-gradient(top,rgba(0,0,0,.2),rgba(0,0,0,0));height:6px;top:0}.gbsb .gbsbt:after{border-top:1px solid #ebebeb;border-color:rgba(0,0,0,.3);top:0}.gbsb .gbsbb{-webkit-mask-box-image:-webkit-gradient(linear,left top,right top,color-stop(0,rgba(0,0,0,.1)),color-stop(.5,rgba(0,0,0,.8)),color-stop(1,rgba(0,0,0,.1)));background:-webkit-gradient(linear,left bottom,left top,from(rgba(0,0,0,.2)),to(rgba(0,0,0,0)));background-image:-webkit-linear-gradient(bottom,rgba(0,0,0,.2),rgba(0,0,0,0));background-image:-moz-linear-gradient(bottom,rgba(0,0,0,.2),rgba(0,0,0,0));background-image:-ms-linear-gradient(bottom,rgba(0,0,0,.2),rgba(0,0,0,0));background-image:-o-linear-gradient(bottom,rgba(0,0,0,.2),rgba(0,0,0,0));background-image:linear-gradient(bottom,rgba(0,0,0,.2),rgba(0,0,0,0));bottom:0;height:4px}.gbsb .gbsbb:after{border-bottom:1px solid #ebebeb;border-color:rgba(0,0,0,.3);bottom:0}\\n</style><style>body,td,a,p,.h{font-family:arial,sans-serif}body{margin:0;overflow-y:scroll}#gog{padding:3px 8px 0}td{line-height:.8em}.gac_m td{line-height:17px}form{margin-bottom:20px}.h{color:#36c}.q{color:#00c}.ts td{padding:0}.ts{border-collapse:collapse}em{font-weight:bold;font-style:normal}.lst{height:25px;width:496px}.gsfi,.lst{font:18px arial,sans-serif}.gsfs{font:17px arial,sans-serif}.ds{display:inline-box;display:inline-block;margin:3px 0 4px;margin-left:4px}input{font-family:inherit}body{background:#fff;color:#000}a{color:#11c;text-decoration:none}a:hover,a:active{text-decoration:underline}.fl a{color:#36c}a:visited{color:#551a8b}.sblc{padding-top:5px}.sblc a{display:block;margin:2px 0;margin-left:13px;font-size:11px}.lsbb{background:#eee;border:solid 1px;border-color:#ccc #999 #999 #ccc;height:30px}.lsbb{display:block}.ftl,#fll a{display:inline-block;margin:0 12px}.lsb{background:url(/images/nav_logo229.png) 0 -261px repeat-x;border:none;color:#000;cursor:pointer;height:30px;margin:0;outline:0;font:15px arial,sans-serif;vertical-align:top}.lsb:active{background:#ccc}.lst:focus{outline:none}</style><script nonce=\"KV0uXT0D14FQNnPg0VA7MQ==\">(function(){try{/*\\n\\n Copyright The Closure Library Authors.\\n SPDX-License-Identifier: Apache-2.0\\n*/\\nvar e=this||self;var aa=function(a,b,c,d){d=d||{};d._sn=[\"cfg\",b,c].join(\".\");window.gbar.logger.ml(a,d)};var g=window.gbar=window.gbar||{},h=window.gbar.i=window.gbar.i||{},ba;function _tvn(a,b){a=parseInt(a,10);return isNaN(a)?b:a}function _tvf(a,b){a=parseFloat(a);return isNaN(a)?b:a}function _tvv(a){return!!a}function p(a,b,c){(c||g)[a]=b}g.bv={n:_tvn(\"2\",0),r:\"\",f:\".66.41.\",e:\"1300102,3700285,3700697\",m:_tvn(\"1\",1)};\\nfunction ca(a,b,c){var d=\"on\"+b;if(a.addEventListener)a.addEventListener(b,c,!1);else if(a.attachEvent)a.attachEvent(d,c);else{var f=a[d];a[d]=function(){var k=f.apply(this,arguments),m=c.apply(this,arguments);return void 0==k?m:void 0==m?k:m&&k}}}var da=function(a){return function(){return g.bv.m==a}},ea=da(1),fa=da(2);p(\"sb\",ea);p(\"kn\",fa);h.a=_tvv;h.b=_tvf;h.c=_tvn;h.i=aa;var r=window.gbar.i.i;var t=function(){},ha=function(){},ka=function(a){var b=new Image,c=ia;b.onerror=b.onload=b.onabort=function(){try{delete ja[c]}catch(d){}};ja[c]=b;b.src=a;ia=c+1},ja=[],ia=0;p(\"logger\",{il:ha,ml:t,log:ka});var u=window.gbar.logger;var v={},la={},w=[],ma=h.b(\"0.1\",.1),na=h.a(\"1\",!0),oa=function(a,b){w.push([a,b])},pa=function(a,b){v[a]=b},qa=function(a){return a in v},x={},A=function(a,b){x[a]||(x[a]=[]);x[a].push(b)},B=function(a){A(\"m\",a)},ra=function(a,b){var c=document.createElement(\"script\");c.src=a;c.async=na;Math.random()<ma&&(c.onerror=function(){c.onerror=null;t(Error(\"Bundle load failed: name=\"+(b||\"UNK\")+\" url=\"+a))});(document.getElementById(\"xjsc\")||document.getElementsByTagName(\"body\")[0]||\\ndocument.getElementsByTagName(\"head\")[0]).appendChild(c)},D=function(a){for(var b=0,c;(c=w[b])&&c[0]!=a;++b);!c||c[1].l||c[1].s||(c[1].s=!0,sa(2,a),c[1].url&&ra(c[1].url,a),c[1].libs&&C&&C(c[1].libs))},ta=function(a){A(\"gc\",a)},ua=null,va=function(a){ua=a},sa=function(a,b,c){if(ua){a={t:a,b:b};if(c)for(var d in c)a[d]=c[d];try{ua(a)}catch(f){}}};p(\"mdc\",v);p(\"mdi\",la);p(\"bnc\",w);p(\"qGC\",ta);p(\"qm\",B);p(\"qd\",x);p(\"lb\",D);p(\"mcf\",pa);p(\"bcf\",oa);p(\"aq\",A);p(\"mdd\",\"\");\\np(\"has\",qa);p(\"trh\",va);p(\"tev\",sa);if(h.a(\"m;/_/scs/abc-static/_/js/k=gapi.gapi.en.jw7XZHvcak8.O/d=1/ct=zgms/rs=AHpOoo-L1iz4xVj0PCdm2On38RCj6aYemA/m=__features__\")){var F=function(a,b){return wa?a||b:b},xa=h.a(\"1\"),ya=h.a(\"\"),za=h.a(\"\"),wa=h.a(\"\"),Aa=window.gapi=F(window.gapi,{}),Ba=function(a,b){var c=function(){g.dgl(a,b)};xa?B(c):(A(\"gl\",c),D(\"gl\"))},Ca={},Da=function(a){a=a.split(\":\");for(var b;(b=a.pop())&&Ca[b];);return!b},C=function(a){function b(){for(var c=a.split(\":\"),d=0,f;f=c[d];++d)Ca[f]=1;for(c=0;d=w[c];++c)d=d[1],(f=d.libs)&&!d.l&&d.i&&\\nDa(f)&&d.i()}g.dgl(a,b)},G=window.___jsl=F(window.___jsl,{});G.h=F(G.h,\"m;/_/scs/abc-static/_/js/k=gapi.gapi.en.jw7XZHvcak8.O/d=1/ct=zgms/rs=AHpOoo-L1iz4xVj0PCdm2On38RCj6aYemA/m=__features__\");G.ms=F(G.ms,\"https://apis.google.com\");G.m=F(G.m,\"\");G.l=F(G.l,[]);G.dpo=F(G.dpo,\"\");xa||w.push([\"gl\",{url:\"//ssl.gstatic.com/gb/js/abc/glm_e7bb39a7e1a24581ff4f8d199678b1b9.js\"}]);var Ea={pu:ya,sh:\"\",si:za,hl:\"fr\"};v.gl=Ea;wa?Aa.load||p(\"load\",Ba,Aa):p(\"load\",Ba,Aa);p(\"dgl\",Ba);p(\"agl\",Da);h.o=xa};var Fa=h.b(\"0.1\",.001),Ga=0;\\nfunction _mlToken(a,b){try{if(1>Ga){Ga++;var c=a;b=b||{};var d=encodeURIComponent,f=[\"//www.google.com/gen_204?atyp=i&zx=\",(new Date).getTime(),\"&jexpid=\",d(\"28834\"),\"&srcpg=\",d(\"prop=1\"),\"&jsr=\",Math.round(1/Fa),\"&ogev=\",d(\"TbWdXuC-BtqIjLsPpc-s0AU\"),\"&ogf=\",g.bv.f,\"&ogrp=\",d(\"\"),\"&ogv=\",d(\"306194695.0\"),\"&oggv=\"+d(\"es_plusone_gc_20200310.0_p0\"),\"&ogd=\",d(\"com\"),\"&ogc=\",d(\"FRA\"),\"&ogl=\",d(\"fr\")];b._sn&&(b._sn=\\n\"og.\"+b._sn);for(var k in b)f.push(\"&\"),f.push(d(k)),f.push(\"=\"),f.push(d(b[k]));f.push(\"&emsg=\");f.push(d(c.name+\":\"+c.message));var m=f.join(\"\");Ha(m)&&(m=m.substr(0,2E3));var n=m;var l=window.gbar.logger._aem(a,n);ka(l)}}catch(q){}}var Ha=function(a){return 2E3<=a.length},Ia=function(a,b){return b};function Ja(a){t=a;p(\"_itl\",Ha,u);p(\"_aem\",Ia,u);p(\"ml\",t,u);a={};v.er=a}h.a(\"\")?Ja(function(a){throw a;}):h.a(\"1\")&&Math.random()<Fa&&Ja(_mlToken);var _E=\"left\",Ka=h.a(\"\"),J=function(a,b){var c=a.className;H(a,b)||(a.className+=(\"\"!=c?\" \":\"\")+b)},K=function(a,b){var c=a.className;b=new RegExp(\"\\\\\\\\s?\\\\\\\\b\"+b+\"\\\\\\\\b\");c&&c.match(b)&&(a.className=c.replace(b,\"\"))},H=function(a,b){b=new RegExp(\"\\\\\\\\b\"+b+\"\\\\\\\\b\");a=a.className;return!(!a||!a.match(b))},La=function(a,b){H(a,b)?K(a,b):J(a,b)},Ma=function(a,b){a[b]=function(c){var d=arguments;g.qm(function(){a[b].apply(this,d)})}},Na=function(){return\"1\"},\\nOa=function(a){a=[\"//www.gstatic.com\",\"/og/_/js/d=1/k=\",\"og.og2.en_US.FcblBUaxLP4.O\",\"/rt=j/m=\",a,\"/rs=\",\"AA2YrTtZD8fkTv6TooSIFeF99xFdLUqB6w\"];Ka&&a.push(\"?host=www.gstatic.com&bust=og.og2.en_US.PmwpEjHo3yA.DU\");a=a.join(\"\");ra(a)};p(\"ca\",J);p(\"cr\",K);p(\"cc\",H);h.k=J;h.l=K;h.m=H;h.n=La;h.p=Oa;h.q=Ma;h.r=Na;var Pa=[\"gb_71\",\"gb_155\"],Qa;function Ra(a){Qa=a}function Sa(a){var b=Qa&&!a.href.match(/.*\\\\/accounts\\\\/ClearSID[?]/)&&encodeURIComponent(Qa());b&&(a.href=a.href.replace(/([?&]continue=)[^&]*/,\"$1\"+b))}function Ta(a){window.gApplication&&(a.href=window.gApplication.getTabUrl(a.href))}function Ua(a){try{var b=(document.forms[0].q||\"\").value;b&&(a.href=a.href.replace(/([?&])q=[^&]*|$/,function(c,d){return(d||\"&\")+\"q=\"+encodeURIComponent(b)}))}catch(c){r(c,\"sb\",\"pq\")}}\\nvar Va=function(){for(var a=[],b=0,c;c=Pa[b];++b)(c=document.getElementById(c))&&a.push(c);return a},Wa=function(){var a=Va();return 0<a.length?a[0]:null},Xa=function(){return document.getElementById(\"gb_70\")},L={},M={},Ya={},N={},O=void 0,cb=function(a,b){try{var c=document.getElementById(\"gb\");J(c,\"gbpdjs\");P();Za(document.getElementById(\"gb\"))&&J(c,\"gbrtl\");if(b&&b.getAttribute){var d=b.getAttribute(\"aria-owns\");if(d.length){var f=document.getElementById(d);if(f){var k=b.parentNode;if(O==d)O=void 0,\\nK(k,\"gbto\");else{if(O){var m=document.getElementById(O);if(m&&m.getAttribute){var n=m.getAttribute(\"aria-owner\");if(n.length){var l=document.getElementById(n);l&&l.parentNode&&K(l.parentNode,\"gbto\")}}}$a(f)&&ab(f);O=d;J(k,\"gbto\")}}}}B(function(){g.tg(a,b,!0)});bb(a)}catch(q){r(q,\"sb\",\"tg\")}},db=function(a){B(function(){g.close(a)})},eb=function(a){B(function(){g.rdd(a)})},Za=function(a){var b,c=document.defaultView;c&&c.getComputedStyle?(a=c.getComputedStyle(a,\"\"))&&(b=a.direction):b=a.currentStyle?\\na.currentStyle.direction:a.style.direction;return\"rtl\"==b},gb=function(a,b,c){if(a)try{var d=document.getElementById(\"gbd5\");if(d){var f=d.firstChild,k=f.firstChild,m=document.createElement(\"li\");m.className=b+\" gbmtc\";m.id=c;a.className=\"gbmt\";m.appendChild(a);if(k.hasChildNodes()){c=[[\"gbkc\"],[\"gbf\",\"gbe\",\"gbn\"],[\"gbkp\"],[\"gbnd\"]];d=0;var n=k.childNodes.length;f=!1;for(var l=-1,q=0,E;E=c[q];q++){for(var U=0,I;I=E[U];U++){for(;d<n&&H(k.childNodes[d],I);)d++;if(I==b){k.insertBefore(m,k.childNodes[d]||\\nnull);f=!0;break}}if(f){if(d+1<k.childNodes.length){var V=k.childNodes[d+1];H(V.firstChild,\"gbmh\")||fb(V,E)||(l=d+1)}else if(0<=d-1){var W=k.childNodes[d-1];H(W.firstChild,\"gbmh\")||fb(W,E)||(l=d)}break}0<d\\r\\n106\\r\\n&&d+1<n&&d++}if(0<=l){var y=document.createElement(\"li\"),z=document.createElement(\"div\");y.className=\"gbmtc\";z.className=\"gbmt gbmh\";y.appendChild(z);k.insertBefore(y,k.childNodes[l])}g.addHover&&g.addHover(a)}else k.appendChild(m)}}catch(Eb){r(Eb,\"sb\",\"al\")}},f\\r\\n5401\\r\\nb=function(a,b){for(var c=b.length,\\nd=0;d<c;d++)if(H(a,b[d]))return!0;return!1},hb=function(a,b,c){gb(a,b,c)},ib=function(a,b){gb(a,\"gbe\",b)},jb=function(){B(function(){g.pcm&&g.pcm()})},kb=function(){B(function(){g.pca&&g.pca()})},lb=function(a,b,c,d,f,k,m,n,l,q){B(function(){g.paa&&g.paa(a,b,c,d,f,k,m,n,l,q)})},mb=function(a,b){L[a]||(L[a]=[]);L[a].push(b)},nb=function(a,b){M[a]||(M[a]=[]);M[a].push(b)},ob=function(a,b){Ya[a]=b},pb=function(a,b){N[a]||(N[a]=[]);N[a].push(b)},bb=function(a){a.preventDefault&&a.preventDefault();a.returnValue=\\n!1;a.cancelBubble=!0},qb=null,ab=function(a,b){P();if(a){rb(a,\"Ouverture...\");Q(a,!0);b=\"undefined\"!=typeof b?b:1E4;var c=function(){sb(a)};qb=window.setTimeout(c,b)}},tb=function(a){P();a&&(Q(a,!1),rb(a,\"\"))},sb=function(a){try{P();var b=a||document.getElementById(O);b&&(rb(b,\"Cette fonctionnalit\\xe9 n\\'est pas disponible actuellement.%1$sVeuillez r\\xe9essayer plus tard.\",\"%1$s\"),Q(b,!0))}catch(c){r(c,\"sb\",\"sdhe\")}},rb=function(a,b,c){if(a&&b){var d=$a(a);if(d){if(c){d.innerHTML=\"\";b=b.split(c);c=0;for(var f;f=b[c];c++){var k=document.createElement(\"div\");\\nk.innerHTML=f;d.appendChild(k)}}else d.innerHTML=b;Q(a,!0)}}},Q=function(a,b){(b=void 0!==b?b:!0)?J(a,\"gbmsgo\"):K(a,\"gbmsgo\")},$a=function(a){for(var b=0,c;c=a.childNodes[b];b++)if(H(c,\"gbmsg\"))return c},P=function(){qb&&window.clearTimeout(qb)},ub=function(a){var b=\"inner\"+a;a=\"offset\"+a;return window[b]?window[b]:document.documentElement&&document.documentElement[a]?document.documentElement[a]:0},vb=function(){return!1},wb=function(){return!!O};p(\"so\",Wa);p(\"sos\",Va);p(\"si\",Xa);p(\"tg\",cb);\\np(\"close\",db);p(\"rdd\",eb);p(\"addLink\",hb);p(\"addExtraLink\",ib);p(\"pcm\",jb);p(\"pca\",kb);p(\"paa\",lb);p(\"ddld\",ab);p(\"ddrd\",tb);p(\"dderr\",sb);p(\"rtl\",Za);p(\"op\",wb);p(\"bh\",L);p(\"abh\",mb);p(\"dh\",M);p(\"adh\",nb);p(\"ch\",N);p(\"ach\",pb);p(\"eh\",Ya);p(\"aeh\",ob);ba=h.a(\"\")?Ta:Ua;p(\"qs\",ba);p(\"setContinueCb\",Ra);p(\"pc\",Sa);p(\"bsy\",vb);h.d=bb;h.j=ub;var xb={};v.base=xb;w.push([\"m\",{url:\"//ssl.gstatic.com/gb/js/sem_574dafda1e043a99f540fbc649850c73.js\"}]);g.sg={c:\"1\"};p(\"wg\",{rg:{}});var yb={tiw:h.c(\"15000\",0),tie:h.c(\"30000\",0)};v.wg=yb;var zb={thi:h.c(\"10000\",0),thp:h.c(\"180000\",0),tho:h.c(\"5000\",0),tet:h.b(\"0.5\",0)};v.wm=zb;if(h.a(\"1\")){var Ab=h.a(\"\");w.push([\"gc\",{auto:Ab,url:\"//ssl.gstatic.com/gb/js/abc/gci_91f30755d6a6b787dcc2a4062e6e9824.js\",libs:\"googleapis.client:plusone:gapi.iframes\"}]);var Bb={version:\"gci_91f30755d6a6b787dcc2a4062e6e9824.js\",index:\"\",lang:\"fr\"};v.gc=Bb;var Cb=function(a){window.googleapis&&window.iframes?a&&a():(a&&ta(a),D(\"gc\"))};p(\"lGC\",Cb);h.a(\"1\")&&p(\"lPWF\",Cb)};window.__PVT=\"\";if(h.a(\"1\")&&h.a(\"1\")){var Db=function(a){Cb(function(){A(\"pw\",a);D(\"pw\")})};p(\"lPW\",Db);w.push([\"pw\",{url:\"//ssl.gstatic.com/gb/js/abc/pwm_45f73e4df07a0e388b0fa1f3d30e7280.js\"}]);var Fb=[],Gb=function(a){Fb[0]=a},Hb=function(a,b){b=b||{};b._sn=\"pw\";t(a,b)},Ib={signed:Fb,elog:Hb,base:\"https://plusone.google.com/u/0\",loadTime:(new Date).getTime()};v.pw=Ib;var Jb=function(a,b){var c=b.split(\".\");b=function(){var m=arguments;a(function(){for(var n=g,l=0,q=c.length-1;l<q;++l)n=n[c[l]];n[c[l]].apply(n,m)})};for(var d=g,f=0,k=c.length-1;f<\\nk;++f)d=d[c[f]]=d[c[f]]||{};return d[c[f]]=b};Jb(Db,\"pw.clk\");Jb(Db,\"pw.hvr\");p(\"su\",Gb,g.pw)};var Kb=[1,2,3,4,5,6,9,10,11,13,14,28,29,30,34,35,37,38,39,40,41,42,43,48,49,500];var Lb=h.b(\"0.001\",1E-4),Mb=h.b(\"1\",1),Nb=!1,Ob=!1;if(h.a(\"1\")){var Pb=Math.random();Pb<Lb&&(Nb=!0);Pb<Mb&&(Ob=!0)}var R=null;\\nfunction Qb(a,b){var c=Lb,d=Nb;var f=a;if(!R){R={};for(var k=0;k<Kb.length;k++){var m=Kb[k];R[m]=!0}}if(f=!!R[f])c=Mb,d=Ob;if(d){d=encodeURIComponent;if(g.rp){var n=g.rp();n=\"-1\"!=n?n:\"\"}else n=\"\";f=(new Date).getTime();k=d(\"28834\");m=d(\"TbWdXuC-BtqIjLsPpc-s0AU\");var l=g.bv.f,q=d(\"1\");n=d(n);c=Math.round(1/c);var E=d(\"306194695.0\"),U=\"&oggv=\"+d(\"es_plusone_gc_20200310.0_p0\"),I=d(\"com\"),V=d(\"fr\"),W=\\nd(\"FRA\");var y=0;h.a(\"\")&&(y|=1);h.a(\"\")&&(y|=2);h.a(\"\")&&(y|=4);a=[\"//www.google.com/gen_204?atyp=i&zx=\",f,\"&oge=\",a,\"&ogex=\",k,\"&ogev=\",m,\"&ogf=\",l,\"&ogp=\",q,\"&ogrp=\",n,\"&ogsr=\",c,\"&ogv=\",E,U,\"&ogd=\",I,\"&ogl=\",V,\"&ogc=\",W,\"&ogus=\",y];if(b){\"ogw\"in b&&(a.push(\"&ogw=\"+b.ogw),delete b.ogw);f=[];for(z in b)0!=f.length&&f.push(\",\"),f.push(Rb(z)),f.push(\".\"),f.push(Rb(b[z]));var z=f.join(\"\");\"\"!=z&&(a.push(\"&ogad=\"),a.push(d(z)))}ka(a.join(\"\"))}}\\nfunction Rb(a){\"number\"==typeof a&&(a+=\"\");return\"string\"==typeof a?a.replace(\".\",\"%2E\").replace(\",\",\"%2C\"):a}ha=Qb;p(\"il\",ha,u);var Sb={};v.il=Sb;var Tb=function(a,b,c,d,f,k,m,n,l,q){B(function(){g.paa(a,b,c,d,f,k,m,n,l,q)})},Ub=function(){B(function(){g.prm()})},Vb=function(a){B(function(){g.spn(a)})},Wb=function(a){B(function(){g.sps(a)})},Xb=function(a){B(function(){g.spp(a)})},Yb={\"27\":\"https://lh3.googleusercontent.com/ogw/default-user=s24\",\"27\":\"https://lh3.googleusercontent.com/ogw/default-user=s24\",\"27\":\"https://lh3.googleusercontent.com/ogw/default-user=s24\"},Zb=function(a){return(a=Yb[a])||\"https://lh3.googleusercontent.com/ogw/default-user=s24\"},\\n$b=function(){B(function(){g.spd()})};p(\"spn\",Vb);p(\"spp\",Xb);p(\"sps\",Wb);p(\"spd\",$b);p(\"paa\",Tb);p(\"prm\",Ub);mb(\"gbd4\",Ub);\\nif(h.a(\"\")){var ac={d:h.a(\"\"),e:\"\",sanw:h.a(\"\"),p:\"https://lh3.googleusercontent.com/ogw/default-user=s96\",cp:\"1\",xp:h.a(\"1\"),mg:\"%1$s (d\\xe9l\\xe9gu\\xe9)\",md:\"%1$s (par d\\xe9faut)\",mh:\"220\",s:\"1\",pp:Zb,ppl:h.a(\"\"),ppa:h.a(\"\"),\\nppm:\"page Google+\"};v.prf=ac};var S,bc,T,cc,X=0,dc=function(a,b,c){if(a.indexOf)return a.indexOf(b,c);if(Array.indexOf)return Array.indexOf(a,b,c);for(c=null==c?0:0>c?Math.max(0,a.length+c):c;c<a.length;c++)if(c in a&&a[c]===b)return c;return-1},Y=function(a,b){return-1==dc(a,X)?(r(Error(X+\"_\"+b),\"up\",\"caa\"),!1):!0},fc=function(a,b){Y([1,2],\"r\")&&(S[a]=S[a]||[],S[a].push(b),2==X&&window.setTimeout(function(){b(ec(a))},0))},gc=function(a,b,c){if(Y([1],\"nap\")&&c){for(var d=0;d<c.length;d++)bc[c[d]]=!0;g.up.spl(a,b,\"nap\",c)}},hc=\\nfunction(a,b,c){if(Y([1],\"aop\")&&c){if(T)for(var d in T)T[d]=T[d]&&-1!=dc(c,d);else for(T={},d=0;d<c.length;d++)T[c[d]]=!0;g.up.spl(a,b,\"aop\",c)}},ic=function(){try{if(X=2,!cc){cc=!0;for(var a in S)for(var b=S[a],c=0;c<b.length;c++)try{b[c](ec(a))}catch(d){r(d,\"up\",\"tp\")}}}catch(d){r(d,\"up\",\"mtp\")}},ec=function(a){if(Y([2],\"ssp\")){var b=!bc[a];T&&(b=b&&!!T[a]);return b}};cc=!1;S={};bc={};T=null;X=1;\\nvar jc=function(a){var b=!1;try{b=a.cookie&&a.cookie.match(\"PREF\")}catch(c){}return!b},kc=function(){try{return!!e.localStorage&&\"object\"==typeof e.localStorage}catch(a){return!1}},lc=function(a){return a&&a.style&&a.style.behavior&&\"undefined\"!=typeof a.load},mc=function(a,b,c,d){try{jc(document)||(d||(b=\"og-up-\"+b),kc()?e.localStorage.setItem(b,c):lc(a)&&(a.setAttribute(b,c),a.save(a.id)))}catch(f){f.code!=DOMException.QUOTA_EXCEEDED_ERR&&r(f,\"up\",\"spd\")}},nc=function(a,b,c){try{if(jc(document))return\"\";\\nc||(b=\"og-up-\"+b);if(kc())return e.localStorage.getItem(b);if(lc(a))return a.load(a.id),a.getAttribute(b)}catch(d){d.code!=DOMException.QUOTA_EXCEEDED_ERR&&r(d,\"up\",\"gpd\")}return\"\"},oc=function(a,b,c){a.addEventListener?a.addEventListener(b,c,!1):a.attachEvent&&a.attachEvent(\"on\"+b,c)},pc=function(a){for(var b=0,c;c=a[b];b++){var d=g.up;c=c in d&&d[c];if(!c)return!1}return!0},qc=function(a,b){try{if(jc(a))return-1;var c=a.cookie.match(/OGPC=([^;]*)/);if(c&&c[1]){var d=c[1].match(new RegExp(\"\\\\\\\\b\"+\\nb+\"-([0-9]+):\"));if(d&&d[1])return parseInt(d[1],10)}}catch(f){f.code!=DOMException.QUOTA_EXCEEDED_ERR&&r(f,\"up\",\"gcc\")}return-1};p(\"up\",{r:fc,nap:gc,aop:hc,tp:ic,ssp:ec,spd:mc,gpd:nc,aeh:oc,aal:pc,gcc:qc});var Z=function(a,b){a[b]=function(c){var d=arguments;g.qm(function(){a[b].apply(this,d)})}};Z(g.up,\"sl\");Z(g.up,\"si\");Z(g.up,\"spl\");Z(g.up,\"dpc\");Z(g.up,\"iic\");g.mcf(\"up\",{sp:h.b(\"0.01\",1),tld:\"fr\",prid:\"1\"});function rc(){function a(){for(var l;(l=k[m++])&&\"m\"!=l[0]&&!l[1].auto;);l&&(sa(2,l[0]),l[1].url&&ra(l[1].url,l[0]),l[1].libs&&C&&C(l[1].libs));m<k.length&&setTimeout(a,0)}function b(){0<f--?setTimeout(b,0):a()}var c=h.a(\"1\"),d=h.a(\"\"),f=3,k=w,m=0,n=window.gbarOnReady;if(n)try{n()}catch(l){r(l,\"ml\",\"or\")}d?p(\"ldb\",a):c?ca(window,\"load\",b):b()}p(\"rdl\",rc);}catch(e){window.gbar&&gbar.logger&&gbar.logger.ml(e,{\"_sn\":\"cfg.init\"});}})();\\n(function(){try{/*\\n\\n Copyright The Closure Library Authors.\\n SPDX-License-Identifier: Apache-2.0\\n*/\\nvar a=window.gbar;a.mcf(\"pm\",{p:\"\"});}catch(e){window.gbar&&gbar.logger&&gbar.logger.ml(e,{\"_sn\":\"cfg.init\"});}})();\\n(function(){try{/*\\n\\n Copyright The Closure Library Authors.\\n SPDX-License-Identifier: Apache-2.0\\n*/\\nvar a=window.gbar;a.mcf(\"mm\",{s:\"1\"});}catch(e){window.gbar&&gbar.logger&&gbar.logger.ml(e,{\"_sn\":\"cfg.init\"});}})();\\n(function(){try{/*\\n\\n Copyright The Closure Library Authors.\\n SPDX-License-Identifier: Apache-2.0\\n*/\\nvar d=window.gbar.i.i;var e=window.gbar;var f=e.i;var g=f.c(\"1\",0),h=/\\\\bgbmt\\\\b/,k=function(a){try{var b=document.getElementById(\"gb_\"+g),c=document.getElementById(\"gb_\"+a);b&&f.l(b,h.test(b.className)?\"gbm0l\":\"gbz0l\");c&&f.k(c,h.test(c.className)?\"gbm0l\":\"gbz0l\")}catch(l){d(l,\"sj\",\"ssp\")}g=a},m=e.qs,n=function(a){var b=a.href;var c=window.location.href.match(/.*?:\\\\/\\\\/[^\\\\/]*/)[0];c=new RegExp(\"^\"+c+\"/search\\\\\\\\?\");(b=c.test(b))&&!/(^|\\\\\\\\?|&)ei=/.test(a.href)&&(b=window.google)&&b.kEXPI&&(a.href+=\"&ei=\"+b.kEI)},p=function(a){m(a);\\nn(a)},q=function(){if(window.google&&window.google.sn){var a=/.*hp$/;return a.test(window.google.sn)?\"\":\"1\"}return\"-1\"};e.rp=q;e.slp=k;e.qs=p;e.qsi=n;}catch(e){window.gbar&&gbar.logger&&gbar.logger.ml(e,{\"_sn\":\"cfg.init\"});}})();\\n(function(){try{/*\\n\\n Copyright The Closure Library Authors.\\n SPDX-License-Identifier: Apache-2.0\\n*/\\nvar a=this||self;var b=window.gbar;var c=b.i;var d=c.a,e=c.c,f={cty:\"FRA\",cv:\"306194695\",dbg:d(\"\"),ecv:\"0\",ei:e(\"TbWdXuC-BtqIjLsPpc-s0AU\"),ele:d(\"1\"),esr:e(\"0.1\"),evts:[\"mousedown\",\"touchstart\",\"touchmove\",\"wheel\",\"keydown\"],gbl:\"es_plusone_gc_20200310.0_p0\",hd:\"com\",hl:\"fr\",irp:d(\"\"),pid:e(\"1\"),\\nsnid:e(\"28834\"),to:e(\"300000\"),u:e(\"\"),vf:\".66.41.\"},g=f,h=[\"bndcfg\"],k=a;h[0]in k||\"undefined\"==typeof k.execScript||k.execScript(\"var \"+h[0]);for(var l;h.length&&(l=h.shift());)h.length||void 0===g?k=k[l]&&k[l]!==Object.prototype[l]?k[l]:k[l]={}:k[l]=g;}catch(e){window.gbar&&gbar.logger&&gbar.logger.ml(e,{\"_sn\":\"cfg.init\"});}})();\\n(function(){try{/*\\n\\n Copyright The Closure Library Authors.\\n SPDX-License-Identifier: Apache-2.0\\n*/\\nwindow.gbar.rdl();}catch(e){window.gbar&&gbar.logger&&gbar.logger.ml(e,{\"_sn\":\"cfg.init\"});}})();\\n</script></head><body bgcolor=\"#fff\"><script nonce=\"KV0uXT0D14FQNnPg0VA7MQ==\">(function(){var src=\\'/images/nav_logo229.png\\';var iesg=false;document.body.onload = function(){window.n && window.n();if (document.images){new Image().src=src;}\\nif (!iesg){document.f&&document.f.q.focus();document.gbqf&&document.gbqf.q.focus();}\\n}\\n})();</script><div id=\"mngb\"> <div id=gb><script>window.gbar&&gbar.eli&&gbar.eli()</script><div id=gbw><div id=gbz><span class=gbtcb></span><ol id=gbzc class=gbtc><li class=gbt><a onclick=gbar.logger.il(1,{t:1}); class=\"gbzt gbz0l gbp1\" id=gb_1 href=\"https://www.google.fr/webhp?tab=ww\"><span class=gbtb2></span><span class=gbts>Recherche</span></a></li><li class=gbt><a onclick=gbar.logger.il(1,{t:2}); class=gbzt id=gb_2 href=\"http://www.google.fr/imghp?hl=fr&tab=wi\"><span class=gbtb2></span><span class=gbts>Images</span></a></li><li class=gbt><a onclick=gbar.logger.il(1,{t:8}); class=gbzt id=gb_8 href=\"http://maps.google.fr/maps?hl=fr&tab=wl\"><span class=gbtb2></span><span class=gbts>Maps</span></a></li><li class=gbt><a onclick=gbar.logger.il(1,{t:78}); class=gbzt id=gb_78 href=\"https://play.google.com/?hl=fr&tab=w8\"><span class=gbtb2></span><span class=gbts>Play</span></a></li><li class=gbt><a onclick=gbar.logger.il(1,{t:36}); class=gbzt id=gb_36 href=\"http://www.youtube.com/?gl=FR&tab=w1\"><span class=gbtb2></span><span class=gbts>YouTube</span></a></li><li class=gbt><a onclick=gbar.logger.il(1,{t:5}); class=gbzt id=gb_5 href=\"http://news.google.fr/nwshp?hl=fr&tab=wn\"><span class=gbtb2></span><span class=gbts>Actualit\\xe9s</span></a></li><li class=gbt><a onclick=gbar.logger.il(1,{t:23}); class=gbzt id=gb_23 href=\"https://mail.google.com/mail/?tab=wm\"><span class=gbtb2></span><span class=gbts>Gmail</span></a></li><li class=gbt><a onclick=gbar.logger.il(1,{t:49}); class=gbzt id=gb_49 href=\"https://drive.google.com/?tab=wo\"><span class=gbtb2></span><span class=gbts>Drive</span></a></li><li class=gbt><a class=gbgt id=gbztm href=\"https://www.google.fr/intl/fr/about/products?tab=wh\" onclick=\"gbar.tg(event,this)\" aria-haspopup=true aria-owns=gbd><span class=gbtb2></span><span id=gbztms class=\"gbts gbtsa\"><span id=gbztms1>Plus</span><span class=gbma></span></span></a><div class=gbm id=gbd aria-owner=gbztm><div id=gbmmb class=\"gbmc gbsb gbsbis\"><ol id=gbmm class=\"gbmcc gbsbic\"><li class=gbmtc><a onclick=gbar.logger.il(1,{t:24}); class=gbmt id=gb_24 href=\"https://www.google.com/calendar?tab=wc\">Agenda</a></li><li class=gbmtc><a onclick=gbar.logger.il(1,{t:51}); class=gbmt id=gb_51 href=\"http://translate.google.fr/?hl=fr&tab=wT\">Traduction</a></li><li class=gbmtc><a onclick=gbar.logger.il(1,{t:10}); class=gbmt id=gb_10 href=\"https://books.google.fr/bkshp?hl=fr&tab=wp\">Livres</a></li><li class=gbmtc><a onclick=gbar.logger.il(1,{t:6}); class=gbmt id=gb_6 href=\"https://www.google.fr/shopping?hl=fr&source=og&tab=wf\">Shopping</a></li><li class=gbmtc><a onclick=gbar.logger.il(1,{t:30}); class=gbmt id=gb_30 href=\"http://www.blogger.com/?tab=wj\">Blogger</a></li><li class=gbmtc><a onclick=gbar.logger.il(1,{t:31}); class=gbmt id=gb_31 href=\"https://photos.google.com/?tab=wq&pageId=none\">Photos</a></li><li class=gbmtc><a onclick=gbar.logger.il(1,{t:12}); class=gbmt id=gb_12 href=\"http://video.google.fr/?hl=fr&tab=wv\">Vid\\xe9os</a></li><li class=gbmtc><a onclick=gbar.logger.il(1,{t:25}); class=gbmt id=gb_25 href=\"https://docs.google.com/document/?usp=docs_alc\">Docs</a></li><li class=gbmtc><div class=\"gbmt gbmh\"></div></li><li class=gbmtc><a onclick=gbar.logger.il(1,{t:66}); href=\"https://www.google.fr/intl/fr/about/products?tab=wh\" class=gbmt>Encore plus &raquo;</a></li></ol><div class=gbsbt></div><div class=gbsbb></div></div></div></li></ol></div><div id=gbg><h2 class=gbxx>Account Options</h2><span class=gbtcb></span><ol class=gbtc><li class=gbt><a target=_top href=\"https://accounts.google.com/ServiceLogin?hl=fr&passive=true&continue=http://www.google.com/\" onclick=\"gbar.logger.il(9,{l:\\'i\\'})\" id=gb_70 class=gbgt><span class=gbtb2></span><span id=gbgs4 class=gbts><span id=gbi4s1>Connexion</span></span></a></li><li class=\"gbt gbtb\"><span class=gbts></span></li><li class=gbt><a class=gbgt id=gbg5 href=\"http://www.google.fr/preferences?hl=fr\" title=\"Options\" onclick=\"gbar.tg(event,this)\" aria-haspopup=true aria-owns=gbd5><span class=gbtb2></span><span id=gbgs5 class=gbts><span id=gbi5></span></span></a><div class=gbm id=gbd5 aria-owner=gbg5><div class=gbmc><ol id=gbom class=gbmcc><li class=\"gbkc gbmtc\"><a  class=gbmt href=\"/preferences?hl=fr\">Param\\xe8tres de recherche</a></li><li class=gbmtc><div class=\"gbmt gbmh\"></div></li><li class=\"gbkp gbmtc\"><a class=gbmt href=\"http://www.google.fr/history/optout?hl=fr\">Historique Web</a></li></ol></div></div></li></ol></div></div><div id=gbx3></div><div id=gbx4></div><script>window.gbar&&gbar.elp&&gbar.elp()</script></div> </div><center><br clear=\"all\" id=\"lgpd\"><div id=\"lga\"><img alt=\"Google\" height=\"92\" src=\"/images/branding/googlelogo/1x/googlelogo_white_background_color_272x92dp.png\" style=\"padding:28px 0 14px\" width=\"272\" id=\"hplogo\"><br><br></div><form action=\"/search\" name=\"f\"><table cellpadding=\"0\" cellspacing=\"0\"><tr valign=\"top\"><td width=\"25%\">&nbsp;</td><td align=\"center\" nowrap=\"\"><input name=\"ie\" value=\"ISO-8859-1\" type=\"hidden\"><input value=\"fr\" name=\"hl\" type=\"hidden\"><input name=\"source\" type=\"hidden\" value=\"hp\"><input name=\"biw\" type=\"hidden\"><input name=\"bih\" type=\"hidden\"><div class=\"ds\" style=\"height:32px;margin:4px 0\"><input class=\"lst\" style=\"margin:0;padding:5px 8px 0 6px;vertical-align:top;color:#000\" autocomplete=\"off\" value=\"\" title=\"Recherche Google\" maxlength=\"2048\" name=\"q\" size=\"57\"></div><br style=\"line-height:0\"><span class=\"ds\"><span class=\"lsbb\"><input class=\"lsb\" value=\"Recherche Google\" name=\"btnG\" type=\"submit\"></span></span><span class=\"ds\"><span class=\"lsbb\"><input class=\"lsb\" id=\"tsuid1\" value=\"J\\'ai de la chance\" name=\"btnI\" type=\"submit\"><script nonce=\"KV0uXT0D14FQNnPg0VA7MQ==\">(function(){var id=\\'tsuid1\\';document.getElementById(id).onclick = function(){if (this.form.q.value){this.checked = 1;if (this.form.iflsig)this.form.iflsig.disabled = false;}\\nelse top.location=\\'/doodles/\\';};})();</script><input value=\"AINFCbYAAAAAXp3DXZqw42MJOw6LtwhfPlZuoDRTnNHi\" name=\"iflsig\" type=\"hidden\"></span></span></td><td class=\"fl sblc\" align=\"left\" nowrap=\"\" width=\"25%\"><a href=\"/advanced_search?hl=fr&amp;authuser=0\">Recherche avanc\\xe9e</a></td></tr></table><input id=\"gbv\" name=\"gbv\" type=\"hidden\" value=\"1\"><script nonce=\"KV0uXT0D14FQNnPg0VA7MQ==\">(function(){var a,b=\"1\";if(document&&document.getElementById)if(\"undefined\"!=typeof XMLHttpRequest)b=\"2\";else if(\"undefined\"!=typeof ActiveXObject){var c,d,e=[\"MSXML2.XMLHTTP.6.0\",\"MSXML2.XMLHTTP.3.0\",\"MSXML2.XMLHTTP\",\"Microsoft.XMLHTTP\"];for(c=0;d=e[c++];)try{new ActiveXObject(d),b=\"2\"}catch(h){}}a=b;if(\"2\"==a&&-1==location.search.indexOf(\"&gbv=2\")){var f=google.gbvu,g=document.getElementById(\"gbv\");g&&(g.value=a);f&&window.setTimeout(function(){location.href=f},0)};}).call(this);</script></form><div id=\"gac_scont\"></div><div style=\"font-size:83%;min-height:3.5em\"><br></div><span id=\"footer\"><div style=\"font-size:10pt\"><div style=\"margin:19px auto;text-align:center\" id=\"fll\"><a href=\"/intl/fr/ads/\">Solutions publicitaires</a><a href=\"/services/\">Solutions d\\'entreprise</a><a href=\"/intl/fr/about.html\">\\xc0 propos de Google</a><a href=\"http://www.google.com/setprefdomain?prefdom=FR&amp;prev=http://www.google.fr/&amp;sig=K_FeB3OrCWyt9kwwjc0P7jFGnGLdg%3D\">Google.fr</a></div></div><p style=\"font-size:8pt;color:#767676\">&copy; 2020 - <a href=\"/intl/fr/policies/privacy/\">Confidentialit\\xe9</a> - <a href=\"/intl/fr/policies/terms/\">Conditions</a></p></span></center><script nonce=\"KV0uXT0D14FQNnPg0VA7MQ==\">(function(){window.google.cdo={height:0,width:0};(function(){var a=window.innerWidth,b=window.innerHeight;if(!a||!b){var c=window.document,d=\"CSS1Compat\"==c.compatMode?c.documentElement:c.body;a=d.clientWidth;b=d.clientHeight}a&&b&&(a!=google.cdo.width||b!=google.cdo.height)&&google.log(\"\",\"\",\"/client_204?&atyp=i&biw=\"+a+\"&bih=\"+b+\"&ei=\"+google.kEI);}).call(this);})();(function(){google.kEXPI=\\'0,202123,3,1151620,5663,730,224,5104,207,2414,790,10,169,882,175,364,1435,4,60,576,241,383,246,5,959,51,9,335,179,17,236,122,213,46,599,282,1126072,1197737,412,329118,1294,12383,4855,32691,15248,867,19398,9286,364,8824,8384,4858,1362,9290,3027,4741,6,3113,7914,1808,4020,978,7931,5297,2054,920,2090,2382,593,6430,11306,2904,318,4518,2776,520,399,261,2016,8,2796,887,706,423,856,390,1822,530,149,1103,842,122,394,1465,8,48,4258,108,204,1137,2,813,1250,606,1839,184,1777,520,1704,243,747,1482,94,327,1284,16,2927,2247,473,1339,748,1039,3227,773,2072,7,4808,1,790,8549,2660,642,599,809,1042,2458,1226,1462,2318,1617,1382,1456,1399,553,907,2,941,532,6,2076,881,934,317,265,2894,2525,225,996,830,840,480,606,1349,3,547,29,157,813,865,8,364,1639,1907,440,266,149,189,354,2959,1228,1129,131,28,201,796,54,308,865,2598,1345,1790,1,1,2,499,837,112,80,17,357,261,3,3,18,282,70,4,279,1010,152,307,569,188,20,271,126,97,375,276,395,2,8,10,2,6,23,64,128,554,388,412,42,4,227,2095,212,119,174,328,339,226,118,88,144,4,337,127,4,563,91,170,14,242,126,56,281,1425,80,8,165,43,1512,383,849,5825502,3309,1802585,6996022,549,333,444,1,2,80,1,900,897,2,6,1,2,2551,1,748,141,59,736,563,1,4265,1,1,1,1,137,1,1193,722,520,17,142,3,5,54,37,42,21,4,20,11,7,22,5,6,3,5,10,2,12,2,2,1,1,1,6,4,2,12,1,2,1,1,28,2,10,3,3,1,1,23962650\\';})();(function(){var u=\\'/xjs/_/js/k\\\\x3dxjs.hp.en.V503H8_X_uc.O/m\\\\x3dsb_he,d/am\\\\x3dAAMCbAQ/d\\\\x3d1/rs\\\\x3dACT90oHD5Gz7TbeJtIyZDwUWeiQicr-3eQ\\';\\nsetTimeout(function(){var b=document;var a=\"SCRIPT\";\"application/xhtml+xml\"===b.contentType&&(a=a.toLowerCase());a=b.createElement(a);a.src=u;google.timers&&google.timers.load&&google.tick&&google.tick(\"load\",\"xjsls\");document.body.appendChild(a)},0);})();(function(){window.google.xjsu=\\'/xjs/_/js/k\\\\x3dxjs.hp.en.V503H8_X_uc.O/m\\\\x3dsb_he,d/am\\\\x3dAAMCbAQ/d\\\\x3d1/rs\\\\x3dACT90oHD5Gz7TbeJtIyZDwUWeiQicr-3eQ\\';})();function _DumpException(e){throw e;}\\nfunction _F_installCss(c){}\\n(function(){google.jl={em:[],emw:false,lls:\\'default\\',pdt:0,snet:true,uwp:true};})();(function(){var pmc=\\'{\\\\x22d\\\\x22:{},\\\\x22sb_he\\\\x22:{\\\\x22agen\\\\x22:true,\\\\x22cgen\\\\x22:true,\\\\x22client\\\\x22:\\\\x22heirloom-hp\\\\x22,\\\\x22dh\\\\x22:true,\\\\x22dhqt\\\\x22:true,\\\\x22ds\\\\x22:\\\\x22\\\\x22,\\\\x22ffql\\\\x22:\\\\x22fr\\\\x22,\\\\x22fl\\\\x22:true,\\\\x22host\\\\x22:\\\\x22google.com\\\\x22,\\\\x22isbh\\\\x22:28,\\\\x22jsonp\\\\x22:true,\\\\x22lm\\\\x22:true,\\\\x22msgs\\\\x22:{\\\\x22cibl\\\\x22:\\\\x22Effacer la recherche\\\\x22,\\\\x22dym\\\\x22:\\\\x22Essayez avec cette orthographe :\\\\x22,\\\\x22lcky\\\\x22:\\\\x22J\\\\\\\\u0026#39;ai de la chance\\\\x22,\\\\x22lml\\\\x22:\\\\x22En savoir plus\\\\x22,\\\\x22oskt\\\\x22:\\\\x22Outils de saisie\\\\x22,\\\\x22psrc\\\\x22:\\\\x22Cette suggestion a bien \\xe9t\\xe9 supprim\\xe9e de votre \\\\\\\\u003Ca href\\\\x3d\\\\\\\\\\\\x22/history\\\\\\\\\\\\x22\\\\\\\\u003Ehistorique Web\\\\\\\\u003C/a\\\\\\\\u003E.\\\\x22,\\\\x22psrl\\\\x22:\\\\x22Supprimer\\\\x22,\\\\x22sbit\\\\x22:\\\\x22Recherche par image\\\\x22,\\\\x22srch\\\\x22:\\\\x22Recherche Google\\\\x22},\\\\x22ovr\\\\x22:{},\\\\x22pq\\\\x22:\\\\x22\\\\x22,\\\\x22refpd\\\\x22:true,\\\\x22rfs\\\\x22:[],\\\\x22sbpl\\\\x22:16,\\\\x22sbpr\\\\x22:16,\\\\x22scd\\\\x22:10,\\\\x22stok\\\\x22:\\\\x22qD8nvnG2Sm1iFvdpariF0WuBqqk\\\\x22,\\\\x22uhde\\\\x22:false}}\\';google.pmc=JSON.parse(pmc);})();</script>        </body></html>\\r\\n0\\r\\n\\r\\n'"
      ],
      "text/plain": [
       "<IPython.core.display.HTML object>"
      ]
     },
     "execution_count": 93,
     "metadata": {},
     "output_type": "execute_result"
    }
   ],
   "source": [
    "from IPython.display import HTML\n",
    "\n",
    "HTML(response.decode(\"utf-8\", \"replace\"))"
   ]
  },
  {
   "cell_type": "markdown",
   "metadata": {},
   "source": [
    "Nous avons donc pu récupérer la page Web de l'acceuil google et l'afficher. Mais nous ne pouvons pas aller beaucoup plus loin. En effet pour intéragir avec des ressources web via le protocole HTTP il est nécessaire de construire des requêtes HTTP, c'est-à-dire ces fameux message que l'on envoie comprenant de nombreuses informations additionnel. De plus vous remarquez sans doutes qu'il y a quelques problèmes de rendu dans la page que l'on a affichée. C'est parge que nous avons recu un page web mais que nous n'avons pas fait la demande pour les feuilles de style (les fichiers css) associés. "
   ]
  },
  {
   "cell_type": "markdown",
   "metadata": {},
   "source": [
    "Nous allons donc voir comment générer des requètes HTTP en Python de manière simple. Il existe deux approches possible pour gérer des requêtes HTTP en Python. La première utilise le module `http` tandis que la seconde utilise le module `request`."
   ]
  },
  {
   "cell_type": "code",
   "execution_count": 2,
   "metadata": {},
   "outputs": [],
   "source": [
    "import http"
   ]
  },
  {
   "cell_type": "code",
   "execution_count": 14,
   "metadata": {},
   "outputs": [
    {
     "name": "stdout",
     "output_type": "stream",
     "text": [
      "Status: 200 and reason: OK\n"
     ]
    }
   ],
   "source": [
    "connection = http.client.HTTPConnection(\"www.bmarchand.fr\")\n",
    "connection.request(\"GET\", \"/\")\n",
    "response = connection.getresponse()\n",
    "print(\"Status: {} and reason: {}\".format(response.status, response.reason))\n",
    "\n"
   ]
  },
  {
   "cell_type": "code",
   "execution_count": 15,
   "metadata": {},
   "outputs": [],
   "source": [
    "from IPython.display import HTML\n",
    "\n",
    "data = response.read()\n",
    "\n",
    "#HTML(response.read())"
   ]
  },
  {
   "cell_type": "code",
   "execution_count": 16,
   "metadata": {},
   "outputs": [
    {
     "data": {
      "text/html": [
       "<html>\n",
       "<head>\n",
       "  <title>Basile Marchand : Home Page</title>\n",
       "  <meta http-equiv=\"Content-Type\" content=\"text/html; charset=ISO-8859-1\">\n",
       "  <meta http-equiv=\"last-modified\" content=\"28/05/2018\" />\n",
       "  <meta http-equiv=\"content-language\" content=\"en-US\" />\n",
       "  <link ref=\"canonical\" href=\"www.perso.bmarchand.fr\">\n",
       "<style>\n",
       "\n",
       "#header {\n",
       "    background-color:white;\n",
       "    color:#8989aa;\n",
       "    text-align:left;\n",
       "    font-family: Helvetica;\n",
       "    font-weight: lighter;\n",
       "    width:60%;\n",
       "    padding:20px;\n",
       "    margin-left:20%;\n",
       "}\n",
       "#nav {\n",
       "    width:100%;\n",
       "    background-color:white;\n",
       "font-size:120%;\n",
       "    padding:3px;      \n",
       "}\n",
       "#navsel {\n",
       "    width:100%;\n",
       "    font-size:70%;\n",
       "    background-color:black;\n",
       "padding:3px;         \n",
       "}\n",
       "#subnav {\n",
       "    width:100%;\n",
       "    background-color:white;\n",
       "    font-size:80%;\n",
       "font-style: italic;      \n",
       "}\n",
       "#section {\n",
       "    background-color:#fafafa;\n",
       "    color:#8989aa;\n",
       "    font-size:100%;\n",
       "    text-align:justify;\n",
       "    width:30%;\n",
       "    padding:2%;\n",
       "}\n",
       "#footer {\n",
       "    background-color:white;\n",
       "    color:#8989aa;\n",
       "    clear:both;\n",
       "    padding:5px;\n",
       "text-align:center;  \n",
       "}\n",
       "#gal_td {\n",
       "width:10%;\n",
       "background-color:#ffffff;\n",
       "}\n",
       "#gallery {\n",
       "text-align:center;\n",
       "padding:2px;\n",
       "background-color:#cccccc;\n",
       "width:100%;\n",
       "}\n",
       "#gallery_text {\n",
       "padding:0px;\n",
       "background-color:white;\n",
       "width:100%;\n",
       "text-align:center;\n",
       "}\n",
       "#div_img {\n",
       "        background-color:#cccccc;\n",
       "align: center;\n",
       "}\n",
       "a.home:link    {    color: #313739; font-style:bold; text-decoration:none;}\n",
       "a.home:visited {    color: #313739; font-style:bold; text-decoration:none;}\n",
       "a.home:hover   {    color: #313739; font-style:bold; text-decoration:none;}\n",
       "a.home:active  {    color: #313739; font-style:bold; text-decoration:none;}\n",
       "\n",
       "a.sel:link    {    color: black; font-style:bold;}\n",
       "a.sel:visited {    color: black; font-style:bold;}\n",
       "a.sel:hover   {    color: black; font-style:bold;}\n",
       "a.sel:active  {    color: black; font-style:bold;}\n",
       "\n",
       "a.pdf:link    {    color: #bb0706;; font-style:bold;}\n",
       "a.pdf:visited {    color: #bb0706;; font-style:bold;}\n",
       "a.pdf:hover   {    color: #bb0706;; font-style:bold;}\n",
       "a.pdf:active  {    color: #bb0706;; font-style:bold;}\n",
       "\n",
       "a:link    {    color: #8989ff;}\n",
       "a:visited {    color: #8989ff;}\n",
       "a:hover   {    color: #8989ff;}\n",
       "a:active  {    color: #8989ff;}\n",
       "\n",
       "table.head   {font-family:Helvetica;font-weight: lighter;color:#8989aa;}\n",
       "table.people {font-family:Helvetica;color:#8989aa;}\n",
       "\n",
       "</style>\n",
       "</head>\n",
       "\n",
       "\n",
       "<body id=\"body\">\n",
       "  <div id=\"header\">\n",
       "    \n",
       "<div style=\"width=100%; background-color:#dddddd; padding:2px; \">\n",
       "<div style=\"width=100%; background-color:#fafafa; padding:10px; \">\n",
       "<table class=\"head\" width=\"100%\">\n",
       "<tr><td width=\"70%\">\n",
       "<h1><a class=\"home\" href=\"index.html\">Basile Marchand</a>&nbsp;&nbsp;&nbsp;&nbsp;&nbsp;<br>\n",
       "       <a href=\"http://cv.archives-ouvertes.fr/basile-marchand\"><img src=\"static/img/hal.png\" height=\"30px\" border=\"0\"/></a>\n",
       "       <a href=\"http://linkedin.com/in/basileMarchand\"><img src=\"static/img/linkedin.png\" height=\"30px\" border=\"0\"/></a>\n",
       "       <a href=\"http://github.com/basileMarchand\"><img src=\"static/img/github.png\" height=\"30px\" border=\"0\"/></a>\n",
       "       <a href=\"http://researchgate.net/profile/Basile_Marchand\"><img src=\"static/img/researchgate.png\" height=\"30px\" border=\"0\"/></a>      \n",
       "</h1>\n",
       "<b>Ing�nieur de Recherche en m�canique num�rique</b></br>\n",
       "<b>Centre des Mat�riaux, MINES ParisTech, CNRS UMR 7633, BP 87, 91003 Evry, France</b></br>\n",
       "<b>E-mail: basile.marchand@mines-paristech.fr</b> &nbsp; &nbsp; &nbsp; &nbsp; &nbsp; &nbsp;\n",
       "</br>\n",
       "\n",
       "</td><td align=\"right\">\n",
       "<img src=\"static/img/avatar.jpeg\" height=\"150px\" border=\"0px\" alt=\"Basile Marchand\"/>\n",
       "</td></tr></table></div></div>\n",
       "\n",
       "<div id=\"nav\">\n",
       "<a class=\"sel\" href=\"index.html\">Home</a> &nbsp;\n",
       "<!--<a href=\"research.html\">Research</a> &nbsp;-->\n",
       "<a href=\"publications.html\">Publications</a> &nbsp;\n",
       "<a href=\"supervision.html\">Encadrement</a> &nbsp;\n",
       "<a href=\"teaching.html\">Enseignement</a> &nbsp;\n",
       "<a href=\"cv.html\">CV</a> &nbsp;\n",
       "</div>\n",
       "\n",
       "<br>\n",
       "<table style=\"width:100%;padding:1px;background-color:#dddddd;\">\n",
       "<tr style=\"width:100%;\" valign=\"top\">\n",
       "<!-- %%%%%%%%%%%%%%%%%%%%%%%%%%%%%%%%%%%%%%%%%%%%%%%%%%%%%%%%%%%%%%%%%%%%%%%%%%%%%%%%%%%%%%%% -->\n",
       "<td id=\"section\">\n",
       "<div align=\"center\">Sujets de recherche</div>\n",
       "<ul>\n",
       "   <li>Solveurs lin�aires</li>\n",
       "   <li>Paradigme �valuation paresseuse dans le cadre des lois de comportement en m�canique num�rique des mat�riaux</li>\n",
       "   <li>Estimateurs d'erreur de discr�tisation</li>\n",
       "</ul>\n",
       "\n",
       "<b>&gt;&gt; Plus de d�tail dans <a href=\"research.html\">Recherche</a></b>\n",
       "</td>\n",
       "<!-- %%%%%%%%%%%%%%%%%%%%%%%%%%%%%%%%%%%%%%%%%%%%%%%%%%%%%%%%%%%%%%%%%%%%%%%%%%%%%%%%%%%%%%%% -->\n",
       "<td id=\"section\">\n",
       "<div align=\"center\">Publications r�centes</div>\n",
       "\n",
       "<ul>\n",
       "<!--\n",
       "<li>Trapped fluid in contact interface (2018)&nbsp;\n",
       "   <a href=\"https://arxiv.org/abs/1712.03954\" style=\"color:#b31b1b;\">[arXiv]</a></li>\n",
       "</ul>\n",
       "<ul>\n",
       "<li>Wave-filtering properties of elastically-asymmetric architected materials (2018) &nbsp;\n",
       "<a href=\"https://arxiv.org/abs/1712.06294\" style=\"color:#b31b1b;\">[arXiv]</a></li>\n",
       "</ul>\n",
       "<ul>\n",
       "\n",
       "<li>Fluid flow across a wavy channel brought in contact (2018)&nbsp;\n",
       "<a class=\"pdf\" href=\"DOCs/ARTICLES/shvarts2018ti.pdf\">[pdf]</a>\n",
       "   <a href=\"https://arxiv.org/abs/1712.06312\" style=\"color:#b31b1b;\">[arXiv]</a></li>\n",
       "</ul>\n",
       "<ul>\n",
       "<li>Modeling and simulation in tribology across scales: An overview (2018) &nbsp;<a class=\"pdf\" href=\"DOCs/ARTICLES/vakis2018ti.pdf\">[pdf]</a>\n",
       "<!-- \n",
       "<li> <i>Sliding without slipping under Coulomb friction: opening waves and inversion of frictional force</i>, Tribology Letters (2016). <a class=\"pdf\" href=\"DOCs/ARTICLES/yastrebov2015slip_.pdf\">[pdf]</a></li><br>\n",
       "<li> <i>The Second Sandia Fracture Challenge: Predictions of Ductile Failure under Quasi-Static and Moderate-Rate Dynamic Loading</i> (in review International Journal of Fracture, 2016).<br></li><br>\n",
       "<li> <i>Three-level multi-scale modeling of electrical contacts: sensitivity study and experimental validation</i>, 61st IEEE Holm Conference on Electrical Contacts (2015). <a class=\"pdf\" href=\"DOCs/ARTICLES/yastrebov2015holm.pdf\">[pdf]</a><br></li-->\n",
       "<!-- \n",
       "<li> <i style=\"font-style:bold;\">From infinitesimal to full contact between rough surfaces: evolution of the contact area</i>\n",
       "<a href=\"http://dx.doi.org/10.1016/j.ijsolstr.2014.09.019\">[dx.doi]</a>\n",
       "<a class=\"pdf\" href=\"DOCs/ARTICLES/yastrebov2014arxiv.pdf\">[pdf]</a></li>\n",
       "\n",
       "<li> <i>The contact of elastic regular wavy surfaces revisited</i>\n",
       "<a href=\"http://dx.doi.org/10.1007/s11249-014-0395-z\">[dx.doi]</a>\n",
       "<a class=\"pdf\" href=\"DOCs/ARTICLES/yastrebov2014tl.pdf\">[pdf]</a></li-->\n",
       "-->\n",
       "</ul>\n",
       "\n",
       "<b>&gt;&gt; Liste compl�te dans <a href=\"publications.html\">Publications</a></b>\n",
       "<!-- -->\n",
       "</td>\n",
       "<!-- %%%%%%%%%%%%%%%%%%%%%%%%%%%%%%%%%%%%%%%%%%%%%%%%%%%%%%%%%%%%%%%%%%%%%%%%%%%%%%%%%%%%%%%% -->\n",
       "<!--td id=\"section\"><h2 align=\"center\"><a href=\"cv.html\">About me</a></h2-->\n",
       "<td id=\"section\"><!--h2 align=\"center\">About me</h2-->\n",
       "Description\n",
       "</div><br>\n",
       "\n",
       " A venir\n",
       "\n",
       "<br><br>\n",
       "Mon CV <a class=\"pdf\" href=\"download/cv/BasileMarchand.pdf\">[pdf]</a> <i>(maj 12/2017)</i><br><br>\n",
       "\n",
       "<!-- <b>&gt;&gt; Plus de d�tails dans <a href=\"cv.html\">CV</a> </b> -->\n",
       "</td>\n",
       "<!-- %%%%%%%%%%%%%%%%%%%%%%%%%%%%%%%%%%%%%%%%%%%%%%%%%%%%%%%%%%%%%%%%%%%%%%%%%%%%%%%%%%%%%%%% -->\n",
       "</tr>\n",
       "</table>\n",
       "\n",
       "<br>\n",
       "\n",
       "<table style=\"width:100%;padding:1px;background-color:#dddddd;\">\n",
       "<tr style=\"width:100%;\" valign=\"top\">\n",
       "<!-- %%%%%%%%%%%%%%%%%%%%%%%%%%%%%%%%%%%%%%%%%%%%%%%%%%%%%%%%%%%%%%%%%%%%%%%%%%%%%%%%%%%%%%%% -->\n",
       "<td id=\"section\">\n",
       "\n",
       "  <h3> Activit�s au Centre des Mat�riaux</h3>\n",
       "  \n",
       "\n",
       "\n",
       "</td>\n",
       "</tr>\n",
       "</table>\n",
       "\n",
       "\n",
       "\n",
       "\n",
       "\n",
       "\n",
       "\n",
       "\n",
       "\n",
       "\n",
       "<div id=\"footer\">\n",
       "<br>\n",
       "Copyright &copy; Basile Marchand 2018\n",
       "</div>\n",
       "</div>\n",
       "\n",
       "\n",
       "</body>\n",
       "</html>\n"
      ],
      "text/plain": [
       "<IPython.core.display.HTML object>"
      ]
     },
     "execution_count": 16,
     "metadata": {},
     "output_type": "execute_result"
    }
   ],
   "source": [
    "\n",
    "HTML(data.decode(\"utf-8\", \"replace\"))"
   ]
  },
  {
   "cell_type": "markdown",
   "metadata": {},
   "source": [
    "On peut facilement obtenir le même résultat à l'aide du module `requests` de Python. "
   ]
  },
  {
   "cell_type": "code",
   "execution_count": 18,
   "metadata": {},
   "outputs": [],
   "source": [
    "import requests\n",
    "\n",
    "out = requests.get(\"http://bmarchand.fr\")"
   ]
  },
  {
   "cell_type": "code",
   "execution_count": 21,
   "metadata": {},
   "outputs": [
    {
     "data": {
      "text/plain": [
       "{'Server': 'nginx/1.10.3', 'Date': 'Tue, 21 Apr 2020 06:15:14 GMT', 'Content-Type': 'text/html', 'Last-Modified': 'Tue, 21 Apr 2020 05:06:15 GMT', 'Transfer-Encoding': 'chunked', 'Connection': 'keep-alive', 'ETag': 'W/\"5e9e7f47-1d67\"', 'Content-Encoding': 'gzip'}"
      ]
     },
     "execution_count": 21,
     "metadata": {},
     "output_type": "execute_result"
    }
   ],
   "source": [
    "out.headers"
   ]
  },
  {
   "cell_type": "markdown",
   "metadata": {},
   "source": [
    "On peut alors observer un certain nombre de choses. La première c'est que comme dans notre exemple avec le client TCP bas niveau la page n'est pas complètement chargé car il manque les feuilles de styles, les images, ... Et c'est normal, car nous ne les avons pas demandées, en effet quand vous consultez un site web via votre navigateur préféré c'est ce dernier qui s'occupe de parser le fichier html reçu pour regarder s'il n'a pas besoin d'autre fichiers (css, js, ...) et si c'est le cas c'est le navigateur qui fait la requète pour chaque fichier nécessaire. Donc quand vous chargez une page web votre navigateur ne fait pas une seule requête mais il en fait plusieurs dizaines généralement. "
   ]
  },
  {
   "cell_type": "markdown",
   "metadata": {},
   "source": [
    "Ensuite vous avez peut être remarqué que dans les deux cas nous avons utilisé la notion de 'GET'. Cela traduit le fait que notre requète est de type GET. C'est à dire une requète pour obtenir une ressource du serveur. Et donc si cette requête est de type GET cela signifie qu'il y a des requète de type pas GET et vous avez raison. \n",
    "\n",
    "Il existe un certain nombre de type de requète HTTP, les principales sont les suivantes : \n",
    "\n",
    "* GET : méthode pour obtenir une ressource, page web, fichier de style, image, ... \n",
    "* POST : méthode pour envoyer des données à une ressources en vue de leurs traitement. Typiquement lorsque vous remplissez un formulaire sur un site web les données sont envoyées au serveur via un POST. \n",
    "* DELETE : méthode pour supprimer une ressource"
   ]
  },
  {
   "cell_type": "markdown",
   "metadata": {},
   "source": [
    "Commencons par tester ces trois types de requêtes. Pour cela le site [http://httpbin.org](http://httpbin.org) mets à disposition un serveur de test relativement utile. "
   ]
  },
  {
   "cell_type": "code",
   "execution_count": 31,
   "metadata": {},
   "outputs": [
    {
     "name": "stdout",
     "output_type": "stream",
     "text": [
      "{\n",
      "  \"args\": {}, \n",
      "  \"headers\": {\n",
      "    \"Accept\": \"*/*\", \n",
      "    \"Accept-Encoding\": \"gzip, deflate\", \n",
      "    \"Host\": \"httpbin.org\", \n",
      "    \"User-Agent\": \"python-requests/2.22.0\", \n",
      "    \"X-Amzn-Trace-Id\": \"Root=1-5e9e9bde-74634a437ba390908d15f1cc\"\n",
      "  }, \n",
      "  \"origin\": \"86.238.139.20\", \n",
      "  \"url\": \"http://httpbin.org/get\"\n",
      "}\n",
      "\n"
     ]
    }
   ],
   "source": [
    "get_out = requests.get(\"http://httpbin.org/get\")\n",
    "print( get_out.content.decode())"
   ]
  },
  {
   "cell_type": "code",
   "execution_count": null,
   "metadata": {},
   "outputs": [],
   "source": []
  },
  {
   "cell_type": "code",
   "execution_count": 30,
   "metadata": {},
   "outputs": [
    {
     "name": "stdout",
     "output_type": "stream",
     "text": [
      "{\n",
      "  \"args\": {\n",
      "    \"a\": \"10\", \n",
      "    \"b\": \"100\"\n",
      "  }, \n",
      "  \"headers\": {\n",
      "    \"Accept\": \"*/*\", \n",
      "    \"Accept-Encoding\": \"gzip, deflate\", \n",
      "    \"Host\": \"httpbin.org\", \n",
      "    \"User-Agent\": \"python-requests/2.22.0\", \n",
      "    \"X-Amzn-Trace-Id\": \"Root=1-5e9e9bc1-8d425348a7436bba9512d550\"\n",
      "  }, \n",
      "  \"origin\": \"86.238.139.20\", \n",
      "  \"url\": \"http://httpbin.org/get?a=10&b=100\"\n",
      "}\n",
      "\n"
     ]
    }
   ],
   "source": [
    "get_out = requests.get(\"http://httpbin.org/get?a=10&b=100\")\n",
    "print( get_out.content.decode())"
   ]
  },
  {
   "cell_type": "code",
   "execution_count": 39,
   "metadata": {},
   "outputs": [
    {
     "name": "stdout",
     "output_type": "stream",
     "text": [
      "{\n",
      "  \"args\": {}, \n",
      "  \"data\": \"\", \n",
      "  \"files\": {}, \n",
      "  \"form\": {\n",
      "    \"mail\": \"basile.marchand@mines-paristech.fr\", \n",
      "    \"name\": \"Basile Marchand\"\n",
      "  }, \n",
      "  \"headers\": {\n",
      "    \"Accept\": \"*/*\", \n",
      "    \"Accept-Encoding\": \"gzip, deflate\", \n",
      "    \"Content-Length\": \"62\", \n",
      "    \"Content-Type\": \"application/x-www-form-urlencoded\", \n",
      "    \"Host\": \"httpbin.org\", \n",
      "    \"User-Agent\": \"python-requests/2.22.0\", \n",
      "    \"X-Amzn-Trace-Id\": \"Root=1-5e9e9c86-ce1ee73069b27b60d3757b98\"\n",
      "  }, \n",
      "  \"json\": null, \n",
      "  \"origin\": \"86.238.139.20\", \n",
      "  \"url\": \"http://httpbin.org/post\"\n",
      "}\n",
      "\n"
     ]
    }
   ],
   "source": [
    "post_out = requests.post(\"http://httpbin.org/post\", data={\"name\": \"Basile Marchand\", \"mail\": \"basile.marchand@mines-paristech.fr\"})\n",
    "print(get_out.content.decode())"
   ]
  },
  {
   "cell_type": "code",
   "execution_count": 40,
   "metadata": {},
   "outputs": [
    {
     "name": "stdout",
     "output_type": "stream",
     "text": [
      "{\n",
      "  \"args\": {}, \n",
      "  \"data\": \"\", \n",
      "  \"files\": {}, \n",
      "  \"form\": {}, \n",
      "  \"headers\": {\n",
      "    \"Accept\": \"*/*\", \n",
      "    \"Accept-Encoding\": \"gzip, deflate\", \n",
      "    \"Content-Length\": \"0\", \n",
      "    \"Host\": \"httpbin.org\", \n",
      "    \"User-Agent\": \"python-requests/2.22.0\", \n",
      "    \"X-Amzn-Trace-Id\": \"Root=1-5e9e9cfe-d368fa000eb100007a3fb1b0\"\n",
      "  }, \n",
      "  \"json\": null, \n",
      "  \"origin\": \"86.238.139.20\", \n",
      "  \"url\": \"http://httpbin.org/delete\"\n",
      "}\n",
      "\n"
     ]
    }
   ],
   "source": [
    "delete_out = requests.delete(\"http://httpbin.org/delete\")\n",
    "print(delete_out.content.decode())"
   ]
  },
  {
   "cell_type": "markdown",
   "metadata": {},
   "source": [
    "### Un mot sur la notion d'API web"
   ]
  },
  {
   "cell_type": "markdown",
   "metadata": {},
   "source": [
    "La question que vous vous posez peut-être c'est pourquoi s'embéter à faire des requètes HTTP en Python si on n'est même pas capable avec ça de récupérer une page Web correctement. Pour la simple est bonne raison que la page web en elle-même n'a aucune intérêt !  Ce qui compte ce sont les données cachées derrières. Le plus bel exemple pour illustrer cela c'est Google !"
   ]
  },
  {
   "cell_type": "markdown",
   "metadata": {},
   "source": [
    " Regardez leur page web [www.google.com](www.google.com) la page web en soit, en plus de ne pas être particulièrement sexy, n'a aucun intérêt. Et pourtant Google aujourd'hui c'est plus de 80 000 employés dans le monde et une capitalisation boursière de 1000 milliard de dollars. Et c'est vrai pour tout, aujourd'hui le traffic internet n'est qu'en très faible partie constitué du transfert de page web. Le plsu gros du transfert c'est de la donnée \"brut\". Par exemple aujourd'hui en france un quart de la bande passante internet est utilisé pour du Netflix et ce qui consomme tant la dedans ce n'est pas l'envoie de la page Web pour vous connecter à votre compte Netflix. C'est le transfert de votre vidéo en streaming. \n",
    " \n",
    "Tout ça pour dire que ce qui compte dans le Web ce n'est pas l'emballage mais la donnée. Et cette donnée on y accède grace à une API. "
   ]
  },
  {
   "cell_type": "markdown",
   "metadata": {},
   "source": [
    "Une API, pour Application Programming Interface, c'est ce qui permet de définir comment un programme consommateur va pouvoir exploiter les fonctionnalités, données d'un programme fournisseur. La notion d'API n'est pas limitée au domaine du web. Elle existe dans tous les domaines de la programmation. \n",
    "\n",
    "Dans le domaine particulier du Web l'API se définit en fait à partir d'une URL. En effet l'accès à la ressource se fait en effectuant une requète GET sur un url particulière. \n",
    "\n",
    "\n",
    "Considérons par exemple le cas d'un serveur générant des lites de nombres aléatoire à la demande. L'api d'un tel serveur pourrait être \n",
    "\n",
    "* `/api/integer` renvoie un nombre aléatoire entier\n",
    "* `/api/float`   renvoie un nombre aléatoire flottant \n",
    "* `/api/integer?n=100` renvoie 100 nombre aléatoire entier\n",
    "* ... \n"
   ]
  },
  {
   "cell_type": "markdown",
   "metadata": {},
   "source": [
    "Pour lancer le serveur il faut exécuter la cellule suivante : "
   ]
  },
  {
   "cell_type": "code",
   "execution_count": 70,
   "metadata": {},
   "outputs": [],
   "source": [
    "import subprocess\n",
    "proc=subprocess.Popen(\"python ../sandbox/server_http_random.py\", shell=True)"
   ]
  },
  {
   "cell_type": "code",
   "execution_count": 53,
   "metadata": {},
   "outputs": [
    {
     "name": "stdout",
     "output_type": "stream",
     "text": [
      "[53]\n"
     ]
    }
   ],
   "source": [
    "out = requests.get(\"http://localhost:3003/api/random/int\")\n",
    "print( out.json() )"
   ]
  },
  {
   "cell_type": "code",
   "execution_count": 54,
   "metadata": {},
   "outputs": [
    {
     "name": "stdout",
     "output_type": "stream",
     "text": [
      "[0.6204823800520021]\n"
     ]
    }
   ],
   "source": [
    "out = requests.get(\"http://localhost:3003/api/random/float\")\n",
    "print( out.json() )"
   ]
  },
  {
   "cell_type": "code",
   "execution_count": 56,
   "metadata": {},
   "outputs": [
    {
     "name": "stdout",
     "output_type": "stream",
     "text": [
      "[25, 15, 74, 69, 42, 81, 12, 95, 24, 77, 62, 20, 80, 46, 0, 33, 82, 49, 91, 84]\n"
     ]
    }
   ],
   "source": [
    "out = requests.get(\"http://localhost:3003/api/random/int?n=20\")\n",
    "print( out.json() )"
   ]
  },
  {
   "cell_type": "code",
   "execution_count": 71,
   "metadata": {},
   "outputs": [
    {
     "name": "stdout",
     "output_type": "stream",
     "text": [
      "[48, 41, 48, 39, 86, 88, 55, 36, 72, 79, 31, 0, 11, 28, 34, 2, 63, 86, 69, 30]\n"
     ]
    }
   ],
   "source": [
    "out = requests.get(\"http://localhost:3003/api/random/int?n=20\")\n",
    "print( out.json() )"
   ]
  },
  {
   "cell_type": "markdown",
   "metadata": {},
   "source": [
    "Pour finir il faut penser à fermer le serveur en tâche de fond. "
   ]
  },
  {
   "cell_type": "code",
   "execution_count": 72,
   "metadata": {},
   "outputs": [],
   "source": [
    "proc.terminate()"
   ]
  },
  {
   "cell_type": "markdown",
   "metadata": {},
   "source": [
    "Donc pour conclure sur les API il s'agit d'un moyen très simple pour offrir une interface vers des ressources et données distantes. La seule difficulté dans ce domaine c'est la définition et surtout la documentation des API. Donc si vous mettez en place un service Web disposant d'une API et que vous souhaitez ouvrir votre service vers l'extérieur merci de prendre le temps de documenter votre API. Mais nous verrons cela la semaine prochaine ;) "
   ]
  },
  {
   "cell_type": "markdown",
   "metadata": {},
   "source": [
    "## Application"
   ]
  },
  {
   "cell_type": "markdown",
   "metadata": {},
   "source": [
    "Maintenant que vous maîtrisez parfaitement le côté ~lumineux de la force~ client je vous propose un exercice. Vous allez devoir faire un programme Python qui va aller chercher de la donnée sur le Web. Pour cela je vous laisse libre sur le type de données que vous souhaitez traiter (à tous hasard on peut utiliser les chiffres du Covid19). Pour faciliter vos recherches de données, je vous propose de faire un tour sur le site [https://public.opendatasoft.com](https://public.opendatasoft.com) qui met à dispositon un ensemble très vaste de données et propose pour chaque jeux de données des API web permettant de faire les requêtes HTTP. "
   ]
  },
  {
   "cell_type": "markdown",
   "metadata": {},
   "source": [
    "Donc l'idée est que vous vous choisissiez une thématique, faites vous plaisir. Ca peut être les chiffres sur le Covid19 ou des données d'économie, météorologie ... Et à partir de votre thématique vous devez réaliser un notebook faisant les choses suivantes : \n",
    "\n",
    "1. Présentation du sujet \n",
    "2. Récupération judicieuse des données sur le web via des requètes HTTP (judicieuse = on ne récupère que ce dont on vraiment besoin)\n",
    "3. Traitement de données, libre à vous, il faut faire dire de choses aux chiffres !\n",
    "4. Synthèse des résultats, beaux graphiques. \n",
    "    \n"
   ]
  },
  {
   "cell_type": "markdown",
   "metadata": {},
   "source": [
    "Et vous m'enverrez à la fin votre notebook avant le 28/04/2020"
   ]
  },
  {
   "cell_type": "code",
   "execution_count": null,
   "metadata": {},
   "outputs": [],
   "source": []
  }
 ],
 "metadata": {
  "kernelspec": {
   "display_name": "Python 3",
   "language": "python",
   "name": "python3"
  },
  "language_info": {
   "codemirror_mode": {
    "name": "ipython",
    "version": 3
   },
   "file_extension": ".py",
   "mimetype": "text/x-python",
   "name": "python",
   "nbconvert_exporter": "python",
   "pygments_lexer": "ipython3",
   "version": "3.7.4"
  }
 },
 "nbformat": 4,
 "nbformat_minor": 2
}
